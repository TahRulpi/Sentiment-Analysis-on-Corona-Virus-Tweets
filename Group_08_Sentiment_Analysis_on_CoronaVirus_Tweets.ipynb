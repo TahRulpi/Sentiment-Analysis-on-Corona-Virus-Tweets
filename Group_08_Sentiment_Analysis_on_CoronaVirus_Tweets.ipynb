{
  "nbformat": 4,
  "nbformat_minor": 0,
  "metadata": {
    "colab": {
      "provenance": [],
      "collapsed_sections": []
    },
    "kernelspec": {
      "name": "python3",
      "display_name": "Python 3"
    },
    "language_info": {
      "name": "python"
    }
  },
  "cells": [
    {
      "cell_type": "markdown",
      "source": [
        "Sentiment Analysis on CoronaVirus Tweets"
      ],
      "metadata": {
        "id": "ckLWWZEUfO-w"
      }
    },
    {
      "cell_type": "markdown",
      "source": [
        "Description"
      ],
      "metadata": {
        "id": "Md3XRpa0fZbx"
      }
    },
    {
      "cell_type": "markdown",
      "source": [
        "**Data Preprocessing**\n",
        "\n",
        "* Lemmatization(With removing non alphabetic characters), Bag of Words.\n",
        "\n"
      ],
      "metadata": {
        "id": "cWW6O5eQftGP"
      }
    },
    {
      "cell_type": "markdown",
      "source": [
        "Importing Components"
      ],
      "metadata": {
        "id": "YQapx1EAjfex"
      }
    },
    {
      "cell_type": "code",
      "source": [
        "import os\n",
        "!pip install tensorflow\n",
        "!pip install cufflinks\n",
        "!pip install textblob\n",
        "!pip install wordcloud"
      ],
      "metadata": {
        "colab": {
          "base_uri": "https://localhost:8080/"
        },
        "id": "73B92FIr9La4",
        "outputId": "9a00df49-897b-4fe0-d8f0-5994840ac449"
      },
      "execution_count": null,
      "outputs": [
        {
          "output_type": "stream",
          "name": "stdout",
          "text": [
            "Looking in indexes: https://pypi.org/simple, https://us-python.pkg.dev/colab-wheels/public/simple/\n",
            "Requirement already satisfied: tensorflow in /usr/local/lib/python3.7/dist-packages (2.8.2+zzzcolab20220719082949)\n",
            "Requirement already satisfied: libclang>=9.0.1 in /usr/local/lib/python3.7/dist-packages (from tensorflow) (14.0.6)\n",
            "Requirement already satisfied: h5py>=2.9.0 in /usr/local/lib/python3.7/dist-packages (from tensorflow) (3.1.0)\n",
            "Requirement already satisfied: numpy>=1.20 in /usr/local/lib/python3.7/dist-packages (from tensorflow) (1.21.6)\n",
            "Requirement already satisfied: google-pasta>=0.1.1 in /usr/local/lib/python3.7/dist-packages (from tensorflow) (0.2.0)\n",
            "Requirement already satisfied: six>=1.12.0 in /usr/local/lib/python3.7/dist-packages (from tensorflow) (1.15.0)\n",
            "Requirement already satisfied: flatbuffers>=1.12 in /usr/local/lib/python3.7/dist-packages (from tensorflow) (2.0.7)\n",
            "Requirement already satisfied: grpcio<2.0,>=1.24.3 in /usr/local/lib/python3.7/dist-packages (from tensorflow) (1.47.0)\n",
            "Requirement already satisfied: opt-einsum>=2.3.2 in /usr/local/lib/python3.7/dist-packages (from tensorflow) (3.3.0)\n",
            "Requirement already satisfied: astunparse>=1.6.0 in /usr/local/lib/python3.7/dist-packages (from tensorflow) (1.6.3)\n",
            "Requirement already satisfied: absl-py>=0.4.0 in /usr/local/lib/python3.7/dist-packages (from tensorflow) (1.2.0)\n",
            "Requirement already satisfied: gast>=0.2.1 in /usr/local/lib/python3.7/dist-packages (from tensorflow) (0.5.3)\n",
            "Requirement already satisfied: tensorflow-io-gcs-filesystem>=0.23.1 in /usr/local/lib/python3.7/dist-packages (from tensorflow) (0.26.0)\n",
            "Requirement already satisfied: keras<2.9,>=2.8.0rc0 in /usr/local/lib/python3.7/dist-packages (from tensorflow) (2.8.0)\n",
            "Requirement already satisfied: setuptools in /usr/local/lib/python3.7/dist-packages (from tensorflow) (57.4.0)\n",
            "Requirement already satisfied: keras-preprocessing>=1.1.1 in /usr/local/lib/python3.7/dist-packages (from tensorflow) (1.1.2)\n",
            "Requirement already satisfied: wrapt>=1.11.0 in /usr/local/lib/python3.7/dist-packages (from tensorflow) (1.14.1)\n",
            "Requirement already satisfied: typing-extensions>=3.6.6 in /usr/local/lib/python3.7/dist-packages (from tensorflow) (4.1.1)\n",
            "Requirement already satisfied: protobuf<3.20,>=3.9.2 in /usr/local/lib/python3.7/dist-packages (from tensorflow) (3.17.3)\n",
            "Requirement already satisfied: tensorflow-estimator<2.9,>=2.8 in /usr/local/lib/python3.7/dist-packages (from tensorflow) (2.8.0)\n",
            "Requirement already satisfied: termcolor>=1.1.0 in /usr/local/lib/python3.7/dist-packages (from tensorflow) (1.1.0)\n",
            "Requirement already satisfied: tensorboard<2.9,>=2.8 in /usr/local/lib/python3.7/dist-packages (from tensorflow) (2.8.0)\n",
            "Requirement already satisfied: wheel<1.0,>=0.23.0 in /usr/local/lib/python3.7/dist-packages (from astunparse>=1.6.0->tensorflow) (0.37.1)\n",
            "Requirement already satisfied: cached-property in /usr/local/lib/python3.7/dist-packages (from h5py>=2.9.0->tensorflow) (1.5.2)\n",
            "Requirement already satisfied: google-auth-oauthlib<0.5,>=0.4.1 in /usr/local/lib/python3.7/dist-packages (from tensorboard<2.9,>=2.8->tensorflow) (0.4.6)\n",
            "Requirement already satisfied: tensorboard-plugin-wit>=1.6.0 in /usr/local/lib/python3.7/dist-packages (from tensorboard<2.9,>=2.8->tensorflow) (1.8.1)\n",
            "Requirement already satisfied: requests<3,>=2.21.0 in /usr/local/lib/python3.7/dist-packages (from tensorboard<2.9,>=2.8->tensorflow) (2.23.0)\n",
            "Requirement already satisfied: markdown>=2.6.8 in /usr/local/lib/python3.7/dist-packages (from tensorboard<2.9,>=2.8->tensorflow) (3.4.1)\n",
            "Requirement already satisfied: werkzeug>=0.11.15 in /usr/local/lib/python3.7/dist-packages (from tensorboard<2.9,>=2.8->tensorflow) (1.0.1)\n",
            "Requirement already satisfied: google-auth<3,>=1.6.3 in /usr/local/lib/python3.7/dist-packages (from tensorboard<2.9,>=2.8->tensorflow) (1.35.0)\n",
            "Requirement already satisfied: tensorboard-data-server<0.7.0,>=0.6.0 in /usr/local/lib/python3.7/dist-packages (from tensorboard<2.9,>=2.8->tensorflow) (0.6.1)\n",
            "Requirement already satisfied: rsa<5,>=3.1.4 in /usr/local/lib/python3.7/dist-packages (from google-auth<3,>=1.6.3->tensorboard<2.9,>=2.8->tensorflow) (4.9)\n",
            "Requirement already satisfied: pyasn1-modules>=0.2.1 in /usr/local/lib/python3.7/dist-packages (from google-auth<3,>=1.6.3->tensorboard<2.9,>=2.8->tensorflow) (0.2.8)\n",
            "Requirement already satisfied: cachetools<5.0,>=2.0.0 in /usr/local/lib/python3.7/dist-packages (from google-auth<3,>=1.6.3->tensorboard<2.9,>=2.8->tensorflow) (4.2.4)\n",
            "Requirement already satisfied: requests-oauthlib>=0.7.0 in /usr/local/lib/python3.7/dist-packages (from google-auth-oauthlib<0.5,>=0.4.1->tensorboard<2.9,>=2.8->tensorflow) (1.3.1)\n",
            "Requirement already satisfied: importlib-metadata>=4.4 in /usr/local/lib/python3.7/dist-packages (from markdown>=2.6.8->tensorboard<2.9,>=2.8->tensorflow) (4.12.0)\n",
            "Requirement already satisfied: zipp>=0.5 in /usr/local/lib/python3.7/dist-packages (from importlib-metadata>=4.4->markdown>=2.6.8->tensorboard<2.9,>=2.8->tensorflow) (3.8.1)\n",
            "Requirement already satisfied: pyasn1<0.5.0,>=0.4.6 in /usr/local/lib/python3.7/dist-packages (from pyasn1-modules>=0.2.1->google-auth<3,>=1.6.3->tensorboard<2.9,>=2.8->tensorflow) (0.4.8)\n",
            "Requirement already satisfied: urllib3!=1.25.0,!=1.25.1,<1.26,>=1.21.1 in /usr/local/lib/python3.7/dist-packages (from requests<3,>=2.21.0->tensorboard<2.9,>=2.8->tensorflow) (1.24.3)\n",
            "Requirement already satisfied: chardet<4,>=3.0.2 in /usr/local/lib/python3.7/dist-packages (from requests<3,>=2.21.0->tensorboard<2.9,>=2.8->tensorflow) (3.0.4)\n",
            "Requirement already satisfied: idna<3,>=2.5 in /usr/local/lib/python3.7/dist-packages (from requests<3,>=2.21.0->tensorboard<2.9,>=2.8->tensorflow) (2.10)\n",
            "Requirement already satisfied: certifi>=2017.4.17 in /usr/local/lib/python3.7/dist-packages (from requests<3,>=2.21.0->tensorboard<2.9,>=2.8->tensorflow) (2022.6.15)\n",
            "Requirement already satisfied: oauthlib>=3.0.0 in /usr/local/lib/python3.7/dist-packages (from requests-oauthlib>=0.7.0->google-auth-oauthlib<0.5,>=0.4.1->tensorboard<2.9,>=2.8->tensorflow) (3.2.0)\n",
            "Looking in indexes: https://pypi.org/simple, https://us-python.pkg.dev/colab-wheels/public/simple/\n",
            "Requirement already satisfied: cufflinks in /usr/local/lib/python3.7/dist-packages (0.17.3)\n",
            "Requirement already satisfied: colorlover>=0.2.1 in /usr/local/lib/python3.7/dist-packages (from cufflinks) (0.3.0)\n",
            "Requirement already satisfied: six>=1.9.0 in /usr/local/lib/python3.7/dist-packages (from cufflinks) (1.15.0)\n",
            "Requirement already satisfied: ipywidgets>=7.0.0 in /usr/local/lib/python3.7/dist-packages (from cufflinks) (7.7.1)\n",
            "Requirement already satisfied: ipython>=5.3.0 in /usr/local/lib/python3.7/dist-packages (from cufflinks) (7.9.0)\n",
            "Requirement already satisfied: pandas>=0.19.2 in /usr/local/lib/python3.7/dist-packages (from cufflinks) (1.3.5)\n",
            "Requirement already satisfied: plotly>=4.1.1 in /usr/local/lib/python3.7/dist-packages (from cufflinks) (5.5.0)\n",
            "Requirement already satisfied: numpy>=1.9.2 in /usr/local/lib/python3.7/dist-packages (from cufflinks) (1.21.6)\n",
            "Requirement already satisfied: setuptools>=34.4.1 in /usr/local/lib/python3.7/dist-packages (from cufflinks) (57.4.0)\n",
            "Requirement already satisfied: decorator in /usr/local/lib/python3.7/dist-packages (from ipython>=5.3.0->cufflinks) (4.4.2)\n",
            "Requirement already satisfied: backcall in /usr/local/lib/python3.7/dist-packages (from ipython>=5.3.0->cufflinks) (0.2.0)\n",
            "Requirement already satisfied: pickleshare in /usr/local/lib/python3.7/dist-packages (from ipython>=5.3.0->cufflinks) (0.7.5)\n",
            "Requirement already satisfied: prompt-toolkit<2.1.0,>=2.0.0 in /usr/local/lib/python3.7/dist-packages (from ipython>=5.3.0->cufflinks) (2.0.10)\n",
            "Requirement already satisfied: traitlets>=4.2 in /usr/local/lib/python3.7/dist-packages (from ipython>=5.3.0->cufflinks) (5.1.1)\n",
            "Requirement already satisfied: pexpect in /usr/local/lib/python3.7/dist-packages (from ipython>=5.3.0->cufflinks) (4.8.0)\n",
            "Collecting jedi>=0.10\n",
            "  Downloading jedi-0.18.1-py2.py3-none-any.whl (1.6 MB)\n",
            "\u001b[K     |████████████████████████████████| 1.6 MB 31.9 MB/s \n",
            "\u001b[?25hRequirement already satisfied: pygments in /usr/local/lib/python3.7/dist-packages (from ipython>=5.3.0->cufflinks) (2.6.1)\n",
            "Requirement already satisfied: jupyterlab-widgets>=1.0.0 in /usr/local/lib/python3.7/dist-packages (from ipywidgets>=7.0.0->cufflinks) (3.0.2)\n",
            "Requirement already satisfied: ipython-genutils~=0.2.0 in /usr/local/lib/python3.7/dist-packages (from ipywidgets>=7.0.0->cufflinks) (0.2.0)\n",
            "Requirement already satisfied: widgetsnbextension~=3.6.0 in /usr/local/lib/python3.7/dist-packages (from ipywidgets>=7.0.0->cufflinks) (3.6.1)\n",
            "Requirement already satisfied: ipykernel>=4.5.1 in /usr/local/lib/python3.7/dist-packages (from ipywidgets>=7.0.0->cufflinks) (5.3.4)\n",
            "Requirement already satisfied: tornado>=4.2 in /usr/local/lib/python3.7/dist-packages (from ipykernel>=4.5.1->ipywidgets>=7.0.0->cufflinks) (5.1.1)\n",
            "Requirement already satisfied: jupyter-client in /usr/local/lib/python3.7/dist-packages (from ipykernel>=4.5.1->ipywidgets>=7.0.0->cufflinks) (6.1.12)\n",
            "Requirement already satisfied: parso<0.9.0,>=0.8.0 in /usr/local/lib/python3.7/dist-packages (from jedi>=0.10->ipython>=5.3.0->cufflinks) (0.8.3)\n",
            "Requirement already satisfied: pytz>=2017.3 in /usr/local/lib/python3.7/dist-packages (from pandas>=0.19.2->cufflinks) (2022.2.1)\n",
            "Requirement already satisfied: python-dateutil>=2.7.3 in /usr/local/lib/python3.7/dist-packages (from pandas>=0.19.2->cufflinks) (2.8.2)\n",
            "Requirement already satisfied: tenacity>=6.2.0 in /usr/local/lib/python3.7/dist-packages (from plotly>=4.1.1->cufflinks) (8.0.1)\n",
            "Requirement already satisfied: wcwidth in /usr/local/lib/python3.7/dist-packages (from prompt-toolkit<2.1.0,>=2.0.0->ipython>=5.3.0->cufflinks) (0.2.5)\n",
            "Requirement already satisfied: notebook>=4.4.1 in /usr/local/lib/python3.7/dist-packages (from widgetsnbextension~=3.6.0->ipywidgets>=7.0.0->cufflinks) (5.3.1)\n",
            "Requirement already satisfied: jinja2 in /usr/local/lib/python3.7/dist-packages (from notebook>=4.4.1->widgetsnbextension~=3.6.0->ipywidgets>=7.0.0->cufflinks) (2.11.3)\n",
            "Requirement already satisfied: Send2Trash in /usr/local/lib/python3.7/dist-packages (from notebook>=4.4.1->widgetsnbextension~=3.6.0->ipywidgets>=7.0.0->cufflinks) (1.8.0)\n",
            "Requirement already satisfied: nbformat in /usr/local/lib/python3.7/dist-packages (from notebook>=4.4.1->widgetsnbextension~=3.6.0->ipywidgets>=7.0.0->cufflinks) (5.4.0)\n",
            "Requirement already satisfied: nbconvert in /usr/local/lib/python3.7/dist-packages (from notebook>=4.4.1->widgetsnbextension~=3.6.0->ipywidgets>=7.0.0->cufflinks) (5.6.1)\n",
            "Requirement already satisfied: jupyter-core>=4.4.0 in /usr/local/lib/python3.7/dist-packages (from notebook>=4.4.1->widgetsnbextension~=3.6.0->ipywidgets>=7.0.0->cufflinks) (4.11.1)\n",
            "Requirement already satisfied: terminado>=0.8.1 in /usr/local/lib/python3.7/dist-packages (from notebook>=4.4.1->widgetsnbextension~=3.6.0->ipywidgets>=7.0.0->cufflinks) (0.13.3)\n",
            "Requirement already satisfied: pyzmq>=13 in /usr/local/lib/python3.7/dist-packages (from jupyter-client->ipykernel>=4.5.1->ipywidgets>=7.0.0->cufflinks) (23.2.1)\n",
            "Requirement already satisfied: ptyprocess in /usr/local/lib/python3.7/dist-packages (from terminado>=0.8.1->notebook>=4.4.1->widgetsnbextension~=3.6.0->ipywidgets>=7.0.0->cufflinks) (0.7.0)\n",
            "Requirement already satisfied: MarkupSafe>=0.23 in /usr/local/lib/python3.7/dist-packages (from jinja2->notebook>=4.4.1->widgetsnbextension~=3.6.0->ipywidgets>=7.0.0->cufflinks) (2.0.1)\n",
            "Requirement already satisfied: mistune<2,>=0.8.1 in /usr/local/lib/python3.7/dist-packages (from nbconvert->notebook>=4.4.1->widgetsnbextension~=3.6.0->ipywidgets>=7.0.0->cufflinks) (0.8.4)\n",
            "Requirement already satisfied: pandocfilters>=1.4.1 in /usr/local/lib/python3.7/dist-packages (from nbconvert->notebook>=4.4.1->widgetsnbextension~=3.6.0->ipywidgets>=7.0.0->cufflinks) (1.5.0)\n",
            "Requirement already satisfied: testpath in /usr/local/lib/python3.7/dist-packages (from nbconvert->notebook>=4.4.1->widgetsnbextension~=3.6.0->ipywidgets>=7.0.0->cufflinks) (0.6.0)\n",
            "Requirement already satisfied: entrypoints>=0.2.2 in /usr/local/lib/python3.7/dist-packages (from nbconvert->notebook>=4.4.1->widgetsnbextension~=3.6.0->ipywidgets>=7.0.0->cufflinks) (0.4)\n",
            "Requirement already satisfied: bleach in /usr/local/lib/python3.7/dist-packages (from nbconvert->notebook>=4.4.1->widgetsnbextension~=3.6.0->ipywidgets>=7.0.0->cufflinks) (5.0.1)\n",
            "Requirement already satisfied: defusedxml in /usr/local/lib/python3.7/dist-packages (from nbconvert->notebook>=4.4.1->widgetsnbextension~=3.6.0->ipywidgets>=7.0.0->cufflinks) (0.7.1)\n",
            "Requirement already satisfied: jsonschema>=2.6 in /usr/local/lib/python3.7/dist-packages (from nbformat->notebook>=4.4.1->widgetsnbextension~=3.6.0->ipywidgets>=7.0.0->cufflinks) (4.3.3)\n",
            "Requirement already satisfied: fastjsonschema in /usr/local/lib/python3.7/dist-packages (from nbformat->notebook>=4.4.1->widgetsnbextension~=3.6.0->ipywidgets>=7.0.0->cufflinks) (2.16.1)\n",
            "Requirement already satisfied: importlib-resources>=1.4.0 in /usr/local/lib/python3.7/dist-packages (from jsonschema>=2.6->nbformat->notebook>=4.4.1->widgetsnbextension~=3.6.0->ipywidgets>=7.0.0->cufflinks) (5.9.0)\n",
            "Requirement already satisfied: typing-extensions in /usr/local/lib/python3.7/dist-packages (from jsonschema>=2.6->nbformat->notebook>=4.4.1->widgetsnbextension~=3.6.0->ipywidgets>=7.0.0->cufflinks) (4.1.1)\n",
            "Requirement already satisfied: pyrsistent!=0.17.0,!=0.17.1,!=0.17.2,>=0.14.0 in /usr/local/lib/python3.7/dist-packages (from jsonschema>=2.6->nbformat->notebook>=4.4.1->widgetsnbextension~=3.6.0->ipywidgets>=7.0.0->cufflinks) (0.18.1)\n",
            "Requirement already satisfied: importlib-metadata in /usr/local/lib/python3.7/dist-packages (from jsonschema>=2.6->nbformat->notebook>=4.4.1->widgetsnbextension~=3.6.0->ipywidgets>=7.0.0->cufflinks) (4.12.0)\n",
            "Requirement already satisfied: attrs>=17.4.0 in /usr/local/lib/python3.7/dist-packages (from jsonschema>=2.6->nbformat->notebook>=4.4.1->widgetsnbextension~=3.6.0->ipywidgets>=7.0.0->cufflinks) (22.1.0)\n",
            "Requirement already satisfied: zipp>=3.1.0 in /usr/local/lib/python3.7/dist-packages (from importlib-resources>=1.4.0->jsonschema>=2.6->nbformat->notebook>=4.4.1->widgetsnbextension~=3.6.0->ipywidgets>=7.0.0->cufflinks) (3.8.1)\n",
            "Requirement already satisfied: webencodings in /usr/local/lib/python3.7/dist-packages (from bleach->nbconvert->notebook>=4.4.1->widgetsnbextension~=3.6.0->ipywidgets>=7.0.0->cufflinks) (0.5.1)\n",
            "Installing collected packages: jedi\n",
            "Successfully installed jedi-0.18.1\n",
            "Looking in indexes: https://pypi.org/simple, https://us-python.pkg.dev/colab-wheels/public/simple/\n",
            "Requirement already satisfied: textblob in /usr/local/lib/python3.7/dist-packages (0.15.3)\n",
            "Requirement already satisfied: nltk>=3.1 in /usr/local/lib/python3.7/dist-packages (from textblob) (3.7)\n",
            "Requirement already satisfied: click in /usr/local/lib/python3.7/dist-packages (from nltk>=3.1->textblob) (7.1.2)\n",
            "Requirement already satisfied: regex>=2021.8.3 in /usr/local/lib/python3.7/dist-packages (from nltk>=3.1->textblob) (2022.6.2)\n",
            "Requirement already satisfied: tqdm in /usr/local/lib/python3.7/dist-packages (from nltk>=3.1->textblob) (4.64.0)\n",
            "Requirement already satisfied: joblib in /usr/local/lib/python3.7/dist-packages (from nltk>=3.1->textblob) (1.1.0)\n",
            "Looking in indexes: https://pypi.org/simple, https://us-python.pkg.dev/colab-wheels/public/simple/\n",
            "Requirement already satisfied: wordcloud in /usr/local/lib/python3.7/dist-packages (1.8.2.2)\n",
            "Requirement already satisfied: matplotlib in /usr/local/lib/python3.7/dist-packages (from wordcloud) (3.2.2)\n",
            "Requirement already satisfied: pillow in /usr/local/lib/python3.7/dist-packages (from wordcloud) (7.1.2)\n",
            "Requirement already satisfied: numpy>=1.6.1 in /usr/local/lib/python3.7/dist-packages (from wordcloud) (1.21.6)\n",
            "Requirement already satisfied: cycler>=0.10 in /usr/local/lib/python3.7/dist-packages (from matplotlib->wordcloud) (0.11.0)\n",
            "Requirement already satisfied: pyparsing!=2.0.4,!=2.1.2,!=2.1.6,>=2.0.1 in /usr/local/lib/python3.7/dist-packages (from matplotlib->wordcloud) (3.0.9)\n",
            "Requirement already satisfied: python-dateutil>=2.1 in /usr/local/lib/python3.7/dist-packages (from matplotlib->wordcloud) (2.8.2)\n",
            "Requirement already satisfied: kiwisolver>=1.0.1 in /usr/local/lib/python3.7/dist-packages (from matplotlib->wordcloud) (1.4.4)\n",
            "Requirement already satisfied: typing-extensions in /usr/local/lib/python3.7/dist-packages (from kiwisolver>=1.0.1->matplotlib->wordcloud) (4.1.1)\n",
            "Requirement already satisfied: six>=1.5 in /usr/local/lib/python3.7/dist-packages (from python-dateutil>=2.1->matplotlib->wordcloud) (1.15.0)\n"
          ]
        }
      ]
    },
    {
      "cell_type": "code",
      "source": [
        "#@title Important Libraries\n",
        "import numpy as np\n",
        "import pandas as pd\n",
        "import matplotlib.pyplot as plt\n",
        "import seaborn as sns\n",
        "import re\n",
        "import nltk\n",
        "import spacy \n",
        "nltk.download('stopwords')\n",
        "nltk.download(\"book\")\n",
        "import nltk.corpus as Corpus\n",
        "from nltk.corpus import stopwords\n",
        "from nltk.stem.porter import PorterStemmer\n",
        "from sklearn.feature_extraction.text import CountVectorizer\n",
        "from sklearn.feature_extraction.text import TfidfVectorizer\n",
        "from sklearn.model_selection import train_test_split\n",
        "from sklearn.naive_bayes import GaussianNB\n",
        "from sklearn.metrics import classification_report\n",
        "from sklearn.linear_model import LogisticRegression\n",
        "from sklearn.ensemble import RandomForestClassifier\n",
        "from sklearn.svm import LinearSVC\n",
        "from xgboost import XGBClassifier\n",
        "from sklearn.tree import DecisionTreeClassifier\n",
        "from sklearn.neighbors import KNeighborsClassifier\n",
        "from sklearn.metrics import accuracy_score\n",
        "from sklearn.preprocessing import StandardScaler\n",
        "from sklearn.metrics import confusion_matrix\n",
        "from sklearn.metrics import accuracy_score, precision_score, recall_score, f1_score"
      ],
      "metadata": {
        "colab": {
          "base_uri": "https://localhost:8080/"
        },
        "id": "gt06dzBElOAn",
        "outputId": "541af366-0360-4141-cf01-71e4926ccc0c"
      },
      "execution_count": 2,
      "outputs": [
        {
          "output_type": "stream",
          "name": "stderr",
          "text": [
            "[nltk_data] Downloading package stopwords to /root/nltk_data...\n",
            "[nltk_data]   Unzipping corpora/stopwords.zip.\n",
            "[nltk_data] Downloading collection 'book'\n",
            "[nltk_data]    | \n",
            "[nltk_data]    | Downloading package abc to /root/nltk_data...\n",
            "[nltk_data]    |   Unzipping corpora/abc.zip.\n",
            "[nltk_data]    | Downloading package brown to /root/nltk_data...\n",
            "[nltk_data]    |   Unzipping corpora/brown.zip.\n",
            "[nltk_data]    | Downloading package chat80 to /root/nltk_data...\n",
            "[nltk_data]    |   Unzipping corpora/chat80.zip.\n",
            "[nltk_data]    | Downloading package cmudict to /root/nltk_data...\n",
            "[nltk_data]    |   Unzipping corpora/cmudict.zip.\n",
            "[nltk_data]    | Downloading package conll2000 to /root/nltk_data...\n",
            "[nltk_data]    |   Unzipping corpora/conll2000.zip.\n",
            "[nltk_data]    | Downloading package conll2002 to /root/nltk_data...\n",
            "[nltk_data]    |   Unzipping corpora/conll2002.zip.\n",
            "[nltk_data]    | Downloading package dependency_treebank to\n",
            "[nltk_data]    |     /root/nltk_data...\n",
            "[nltk_data]    |   Unzipping corpora/dependency_treebank.zip.\n",
            "[nltk_data]    | Downloading package genesis to /root/nltk_data...\n",
            "[nltk_data]    |   Unzipping corpora/genesis.zip.\n",
            "[nltk_data]    | Downloading package gutenberg to /root/nltk_data...\n",
            "[nltk_data]    |   Unzipping corpora/gutenberg.zip.\n",
            "[nltk_data]    | Downloading package ieer to /root/nltk_data...\n",
            "[nltk_data]    |   Unzipping corpora/ieer.zip.\n",
            "[nltk_data]    | Downloading package inaugural to /root/nltk_data...\n",
            "[nltk_data]    |   Unzipping corpora/inaugural.zip.\n",
            "[nltk_data]    | Downloading package movie_reviews to\n",
            "[nltk_data]    |     /root/nltk_data...\n",
            "[nltk_data]    |   Unzipping corpora/movie_reviews.zip.\n",
            "[nltk_data]    | Downloading package nps_chat to /root/nltk_data...\n",
            "[nltk_data]    |   Unzipping corpora/nps_chat.zip.\n",
            "[nltk_data]    | Downloading package names to /root/nltk_data...\n",
            "[nltk_data]    |   Unzipping corpora/names.zip.\n",
            "[nltk_data]    | Downloading package ppattach to /root/nltk_data...\n",
            "[nltk_data]    |   Unzipping corpora/ppattach.zip.\n",
            "[nltk_data]    | Downloading package reuters to /root/nltk_data...\n",
            "[nltk_data]    | Downloading package senseval to /root/nltk_data...\n",
            "[nltk_data]    |   Unzipping corpora/senseval.zip.\n",
            "[nltk_data]    | Downloading package state_union to /root/nltk_data...\n",
            "[nltk_data]    |   Unzipping corpora/state_union.zip.\n",
            "[nltk_data]    | Downloading package stopwords to /root/nltk_data...\n",
            "[nltk_data]    |   Package stopwords is already up-to-date!\n",
            "[nltk_data]    | Downloading package swadesh to /root/nltk_data...\n",
            "[nltk_data]    |   Unzipping corpora/swadesh.zip.\n",
            "[nltk_data]    | Downloading package timit to /root/nltk_data...\n",
            "[nltk_data]    |   Unzipping corpora/timit.zip.\n",
            "[nltk_data]    | Downloading package treebank to /root/nltk_data...\n",
            "[nltk_data]    |   Unzipping corpora/treebank.zip.\n",
            "[nltk_data]    | Downloading package toolbox to /root/nltk_data...\n",
            "[nltk_data]    |   Unzipping corpora/toolbox.zip.\n",
            "[nltk_data]    | Downloading package udhr to /root/nltk_data...\n",
            "[nltk_data]    |   Unzipping corpora/udhr.zip.\n",
            "[nltk_data]    | Downloading package udhr2 to /root/nltk_data...\n",
            "[nltk_data]    |   Unzipping corpora/udhr2.zip.\n",
            "[nltk_data]    | Downloading package unicode_samples to\n",
            "[nltk_data]    |     /root/nltk_data...\n",
            "[nltk_data]    |   Unzipping corpora/unicode_samples.zip.\n",
            "[nltk_data]    | Downloading package webtext to /root/nltk_data...\n",
            "[nltk_data]    |   Unzipping corpora/webtext.zip.\n",
            "[nltk_data]    | Downloading package wordnet to /root/nltk_data...\n",
            "[nltk_data]    | Downloading package wordnet_ic to /root/nltk_data...\n",
            "[nltk_data]    |   Unzipping corpora/wordnet_ic.zip.\n",
            "[nltk_data]    | Downloading package words to /root/nltk_data...\n",
            "[nltk_data]    |   Unzipping corpora/words.zip.\n",
            "[nltk_data]    | Downloading package maxent_treebank_pos_tagger to\n",
            "[nltk_data]    |     /root/nltk_data...\n",
            "[nltk_data]    |   Unzipping taggers/maxent_treebank_pos_tagger.zip.\n",
            "[nltk_data]    | Downloading package maxent_ne_chunker to\n",
            "[nltk_data]    |     /root/nltk_data...\n",
            "[nltk_data]    |   Unzipping chunkers/maxent_ne_chunker.zip.\n",
            "[nltk_data]    | Downloading package universal_tagset to\n",
            "[nltk_data]    |     /root/nltk_data...\n",
            "[nltk_data]    |   Unzipping taggers/universal_tagset.zip.\n",
            "[nltk_data]    | Downloading package punkt to /root/nltk_data...\n",
            "[nltk_data]    |   Unzipping tokenizers/punkt.zip.\n",
            "[nltk_data]    | Downloading package book_grammars to\n",
            "[nltk_data]    |     /root/nltk_data...\n",
            "[nltk_data]    |   Unzipping grammars/book_grammars.zip.\n",
            "[nltk_data]    | Downloading package city_database to\n",
            "[nltk_data]    |     /root/nltk_data...\n",
            "[nltk_data]    |   Unzipping corpora/city_database.zip.\n",
            "[nltk_data]    | Downloading package tagsets to /root/nltk_data...\n",
            "[nltk_data]    |   Unzipping help/tagsets.zip.\n",
            "[nltk_data]    | Downloading package panlex_swadesh to\n",
            "[nltk_data]    |     /root/nltk_data...\n",
            "[nltk_data]    | Downloading package averaged_perceptron_tagger to\n",
            "[nltk_data]    |     /root/nltk_data...\n",
            "[nltk_data]    |   Unzipping taggers/averaged_perceptron_tagger.zip.\n",
            "[nltk_data]    | \n",
            "[nltk_data]  Done downloading collection book\n"
          ]
        }
      ]
    },
    {
      "cell_type": "code",
      "source": [
        "from google.colab import drive\n",
        "drive.mount('/content/drive')"
      ],
      "metadata": {
        "colab": {
          "base_uri": "https://localhost:8080/"
        },
        "id": "a4-3yc6zjiVe",
        "outputId": "0131fcff-b4f8-43a5-f4c7-b9601f447585"
      },
      "execution_count": 3,
      "outputs": [
        {
          "output_type": "stream",
          "name": "stdout",
          "text": [
            "Mounted at /content/drive\n"
          ]
        }
      ]
    },
    {
      "cell_type": "code",
      "source": [
        "import numpy as np\n",
        "import matplotlib.pyplot as plt\n",
        "import pandas as pd\n",
        "\n",
        "dataset = pd.read_csv('/content/drive/MyDrive/PatternProject/Corona_NLP.tsv', encoding = \"ISO-8859-1\" , delimiter = '\\t')\n",
        "dataset.head()"
      ],
      "metadata": {
        "colab": {
          "base_uri": "https://localhost:8080/",
          "height": 206
        },
        "id": "zPFVCRabCJDT",
        "outputId": "3113d6d8-ae61-4bcd-f88b-60a99bc00477"
      },
      "execution_count": 4,
      "outputs": [
        {
          "output_type": "execute_result",
          "data": {
            "text/plain": [
              "   UserName  ScreenName             Location   TweetAt  \\\n",
              "0         1       44953                  NYC  2/3/2020   \n",
              "1         2       44954          Seattle, WA  2/3/2020   \n",
              "2         3       44955                  NaN  2/3/2020   \n",
              "3         4       44956          Chicagoland  2/3/2020   \n",
              "4         5       44957  Melbourne, Victoria  3/3/2020   \n",
              "\n",
              "                                       OriginalTweet Sentiment  Unnamed: 6  \n",
              "0  TRENDING: New Yorkers encounter empty supermar...  Negative         NaN  \n",
              "1  When I couldn't find hand sanitizer at Fred Me...  Positive         NaN  \n",
              "2  Find out how you can protect yourself and love...  Positive         NaN  \n",
              "3  #Panic buying hits #NewYork City as anxious sh...  Negative         NaN  \n",
              "4  #toiletpaper #dunnypaper #coronavirus #coronav...   Neutral         NaN  "
            ],
            "text/html": [
              "\n",
              "  <div id=\"df-5085597f-1f6f-4c72-8234-16425c504677\">\n",
              "    <div class=\"colab-df-container\">\n",
              "      <div>\n",
              "<style scoped>\n",
              "    .dataframe tbody tr th:only-of-type {\n",
              "        vertical-align: middle;\n",
              "    }\n",
              "\n",
              "    .dataframe tbody tr th {\n",
              "        vertical-align: top;\n",
              "    }\n",
              "\n",
              "    .dataframe thead th {\n",
              "        text-align: right;\n",
              "    }\n",
              "</style>\n",
              "<table border=\"1\" class=\"dataframe\">\n",
              "  <thead>\n",
              "    <tr style=\"text-align: right;\">\n",
              "      <th></th>\n",
              "      <th>UserName</th>\n",
              "      <th>ScreenName</th>\n",
              "      <th>Location</th>\n",
              "      <th>TweetAt</th>\n",
              "      <th>OriginalTweet</th>\n",
              "      <th>Sentiment</th>\n",
              "      <th>Unnamed: 6</th>\n",
              "    </tr>\n",
              "  </thead>\n",
              "  <tbody>\n",
              "    <tr>\n",
              "      <th>0</th>\n",
              "      <td>1</td>\n",
              "      <td>44953</td>\n",
              "      <td>NYC</td>\n",
              "      <td>2/3/2020</td>\n",
              "      <td>TRENDING: New Yorkers encounter empty supermar...</td>\n",
              "      <td>Negative</td>\n",
              "      <td>NaN</td>\n",
              "    </tr>\n",
              "    <tr>\n",
              "      <th>1</th>\n",
              "      <td>2</td>\n",
              "      <td>44954</td>\n",
              "      <td>Seattle, WA</td>\n",
              "      <td>2/3/2020</td>\n",
              "      <td>When I couldn't find hand sanitizer at Fred Me...</td>\n",
              "      <td>Positive</td>\n",
              "      <td>NaN</td>\n",
              "    </tr>\n",
              "    <tr>\n",
              "      <th>2</th>\n",
              "      <td>3</td>\n",
              "      <td>44955</td>\n",
              "      <td>NaN</td>\n",
              "      <td>2/3/2020</td>\n",
              "      <td>Find out how you can protect yourself and love...</td>\n",
              "      <td>Positive</td>\n",
              "      <td>NaN</td>\n",
              "    </tr>\n",
              "    <tr>\n",
              "      <th>3</th>\n",
              "      <td>4</td>\n",
              "      <td>44956</td>\n",
              "      <td>Chicagoland</td>\n",
              "      <td>2/3/2020</td>\n",
              "      <td>#Panic buying hits #NewYork City as anxious sh...</td>\n",
              "      <td>Negative</td>\n",
              "      <td>NaN</td>\n",
              "    </tr>\n",
              "    <tr>\n",
              "      <th>4</th>\n",
              "      <td>5</td>\n",
              "      <td>44957</td>\n",
              "      <td>Melbourne, Victoria</td>\n",
              "      <td>3/3/2020</td>\n",
              "      <td>#toiletpaper #dunnypaper #coronavirus #coronav...</td>\n",
              "      <td>Neutral</td>\n",
              "      <td>NaN</td>\n",
              "    </tr>\n",
              "  </tbody>\n",
              "</table>\n",
              "</div>\n",
              "      <button class=\"colab-df-convert\" onclick=\"convertToInteractive('df-5085597f-1f6f-4c72-8234-16425c504677')\"\n",
              "              title=\"Convert this dataframe to an interactive table.\"\n",
              "              style=\"display:none;\">\n",
              "        \n",
              "  <svg xmlns=\"http://www.w3.org/2000/svg\" height=\"24px\"viewBox=\"0 0 24 24\"\n",
              "       width=\"24px\">\n",
              "    <path d=\"M0 0h24v24H0V0z\" fill=\"none\"/>\n",
              "    <path d=\"M18.56 5.44l.94 2.06.94-2.06 2.06-.94-2.06-.94-.94-2.06-.94 2.06-2.06.94zm-11 1L8.5 8.5l.94-2.06 2.06-.94-2.06-.94L8.5 2.5l-.94 2.06-2.06.94zm10 10l.94 2.06.94-2.06 2.06-.94-2.06-.94-.94-2.06-.94 2.06-2.06.94z\"/><path d=\"M17.41 7.96l-1.37-1.37c-.4-.4-.92-.59-1.43-.59-.52 0-1.04.2-1.43.59L10.3 9.45l-7.72 7.72c-.78.78-.78 2.05 0 2.83L4 21.41c.39.39.9.59 1.41.59.51 0 1.02-.2 1.41-.59l7.78-7.78 2.81-2.81c.8-.78.8-2.07 0-2.86zM5.41 20L4 18.59l7.72-7.72 1.47 1.35L5.41 20z\"/>\n",
              "  </svg>\n",
              "      </button>\n",
              "      \n",
              "  <style>\n",
              "    .colab-df-container {\n",
              "      display:flex;\n",
              "      flex-wrap:wrap;\n",
              "      gap: 12px;\n",
              "    }\n",
              "\n",
              "    .colab-df-convert {\n",
              "      background-color: #E8F0FE;\n",
              "      border: none;\n",
              "      border-radius: 50%;\n",
              "      cursor: pointer;\n",
              "      display: none;\n",
              "      fill: #1967D2;\n",
              "      height: 32px;\n",
              "      padding: 0 0 0 0;\n",
              "      width: 32px;\n",
              "    }\n",
              "\n",
              "    .colab-df-convert:hover {\n",
              "      background-color: #E2EBFA;\n",
              "      box-shadow: 0px 1px 2px rgba(60, 64, 67, 0.3), 0px 1px 3px 1px rgba(60, 64, 67, 0.15);\n",
              "      fill: #174EA6;\n",
              "    }\n",
              "\n",
              "    [theme=dark] .colab-df-convert {\n",
              "      background-color: #3B4455;\n",
              "      fill: #D2E3FC;\n",
              "    }\n",
              "\n",
              "    [theme=dark] .colab-df-convert:hover {\n",
              "      background-color: #434B5C;\n",
              "      box-shadow: 0px 1px 3px 1px rgba(0, 0, 0, 0.15);\n",
              "      filter: drop-shadow(0px 1px 2px rgba(0, 0, 0, 0.3));\n",
              "      fill: #FFFFFF;\n",
              "    }\n",
              "  </style>\n",
              "\n",
              "      <script>\n",
              "        const buttonEl =\n",
              "          document.querySelector('#df-5085597f-1f6f-4c72-8234-16425c504677 button.colab-df-convert');\n",
              "        buttonEl.style.display =\n",
              "          google.colab.kernel.accessAllowed ? 'block' : 'none';\n",
              "\n",
              "        async function convertToInteractive(key) {\n",
              "          const element = document.querySelector('#df-5085597f-1f6f-4c72-8234-16425c504677');\n",
              "          const dataTable =\n",
              "            await google.colab.kernel.invokeFunction('convertToInteractive',\n",
              "                                                     [key], {});\n",
              "          if (!dataTable) return;\n",
              "\n",
              "          const docLinkHtml = 'Like what you see? Visit the ' +\n",
              "            '<a target=\"_blank\" href=https://colab.research.google.com/notebooks/data_table.ipynb>data table notebook</a>'\n",
              "            + ' to learn more about interactive tables.';\n",
              "          element.innerHTML = '';\n",
              "          dataTable['output_type'] = 'display_data';\n",
              "          await google.colab.output.renderOutput(dataTable, element);\n",
              "          const docLink = document.createElement('div');\n",
              "          docLink.innerHTML = docLinkHtml;\n",
              "          element.appendChild(docLink);\n",
              "        }\n",
              "      </script>\n",
              "    </div>\n",
              "  </div>\n",
              "  "
            ]
          },
          "metadata": {},
          "execution_count": 4
        }
      ]
    },
    {
      "cell_type": "code",
      "source": [
        "dataset.tail()"
      ],
      "metadata": {
        "colab": {
          "base_uri": "https://localhost:8080/",
          "height": 206
        },
        "id": "UCvv5zymHCdW",
        "outputId": "820c0934-1723-4d02-dd5b-1a1d47409e40"
      },
      "execution_count": 5,
      "outputs": [
        {
          "output_type": "execute_result",
          "data": {
            "text/plain": [
              "       UserName  ScreenName                      Location     TweetAt  \\\n",
              "44950     44951       89903  Wellington City, New Zealand  14-04-2020   \n",
              "44951     44952       89904                           NaN  14-04-2020   \n",
              "44952     44953       89905                           NaN  14-04-2020   \n",
              "44953     44954       89906                           NaN  14-04-2020   \n",
              "44954     44955       89907  i love you so much || he/him  14-04-2020   \n",
              "\n",
              "                                           OriginalTweet Sentiment  Unnamed: 6  \n",
              "44950  Airline pilots offering to stock supermarket s...   Neutral         NaN  \n",
              "44951  Response to complaint not provided citing COVI...  Negative         NaN  \n",
              "44952  You know itÂs getting tough when @KameronWild...  Positive         NaN  \n",
              "44953  Is it wrong that the smell of hand sanitizer i...   Neutral         NaN  \n",
              "44954  @TartiiCat Well new/used Rift S are going for ...  Negative         NaN  "
            ],
            "text/html": [
              "\n",
              "  <div id=\"df-b92f00a5-53b7-4172-acf8-7658577ff6b9\">\n",
              "    <div class=\"colab-df-container\">\n",
              "      <div>\n",
              "<style scoped>\n",
              "    .dataframe tbody tr th:only-of-type {\n",
              "        vertical-align: middle;\n",
              "    }\n",
              "\n",
              "    .dataframe tbody tr th {\n",
              "        vertical-align: top;\n",
              "    }\n",
              "\n",
              "    .dataframe thead th {\n",
              "        text-align: right;\n",
              "    }\n",
              "</style>\n",
              "<table border=\"1\" class=\"dataframe\">\n",
              "  <thead>\n",
              "    <tr style=\"text-align: right;\">\n",
              "      <th></th>\n",
              "      <th>UserName</th>\n",
              "      <th>ScreenName</th>\n",
              "      <th>Location</th>\n",
              "      <th>TweetAt</th>\n",
              "      <th>OriginalTweet</th>\n",
              "      <th>Sentiment</th>\n",
              "      <th>Unnamed: 6</th>\n",
              "    </tr>\n",
              "  </thead>\n",
              "  <tbody>\n",
              "    <tr>\n",
              "      <th>44950</th>\n",
              "      <td>44951</td>\n",
              "      <td>89903</td>\n",
              "      <td>Wellington City, New Zealand</td>\n",
              "      <td>14-04-2020</td>\n",
              "      <td>Airline pilots offering to stock supermarket s...</td>\n",
              "      <td>Neutral</td>\n",
              "      <td>NaN</td>\n",
              "    </tr>\n",
              "    <tr>\n",
              "      <th>44951</th>\n",
              "      <td>44952</td>\n",
              "      <td>89904</td>\n",
              "      <td>NaN</td>\n",
              "      <td>14-04-2020</td>\n",
              "      <td>Response to complaint not provided citing COVI...</td>\n",
              "      <td>Negative</td>\n",
              "      <td>NaN</td>\n",
              "    </tr>\n",
              "    <tr>\n",
              "      <th>44952</th>\n",
              "      <td>44953</td>\n",
              "      <td>89905</td>\n",
              "      <td>NaN</td>\n",
              "      <td>14-04-2020</td>\n",
              "      <td>You know itÂs getting tough when @KameronWild...</td>\n",
              "      <td>Positive</td>\n",
              "      <td>NaN</td>\n",
              "    </tr>\n",
              "    <tr>\n",
              "      <th>44953</th>\n",
              "      <td>44954</td>\n",
              "      <td>89906</td>\n",
              "      <td>NaN</td>\n",
              "      <td>14-04-2020</td>\n",
              "      <td>Is it wrong that the smell of hand sanitizer i...</td>\n",
              "      <td>Neutral</td>\n",
              "      <td>NaN</td>\n",
              "    </tr>\n",
              "    <tr>\n",
              "      <th>44954</th>\n",
              "      <td>44955</td>\n",
              "      <td>89907</td>\n",
              "      <td>i love you so much || he/him</td>\n",
              "      <td>14-04-2020</td>\n",
              "      <td>@TartiiCat Well new/used Rift S are going for ...</td>\n",
              "      <td>Negative</td>\n",
              "      <td>NaN</td>\n",
              "    </tr>\n",
              "  </tbody>\n",
              "</table>\n",
              "</div>\n",
              "      <button class=\"colab-df-convert\" onclick=\"convertToInteractive('df-b92f00a5-53b7-4172-acf8-7658577ff6b9')\"\n",
              "              title=\"Convert this dataframe to an interactive table.\"\n",
              "              style=\"display:none;\">\n",
              "        \n",
              "  <svg xmlns=\"http://www.w3.org/2000/svg\" height=\"24px\"viewBox=\"0 0 24 24\"\n",
              "       width=\"24px\">\n",
              "    <path d=\"M0 0h24v24H0V0z\" fill=\"none\"/>\n",
              "    <path d=\"M18.56 5.44l.94 2.06.94-2.06 2.06-.94-2.06-.94-.94-2.06-.94 2.06-2.06.94zm-11 1L8.5 8.5l.94-2.06 2.06-.94-2.06-.94L8.5 2.5l-.94 2.06-2.06.94zm10 10l.94 2.06.94-2.06 2.06-.94-2.06-.94-.94-2.06-.94 2.06-2.06.94z\"/><path d=\"M17.41 7.96l-1.37-1.37c-.4-.4-.92-.59-1.43-.59-.52 0-1.04.2-1.43.59L10.3 9.45l-7.72 7.72c-.78.78-.78 2.05 0 2.83L4 21.41c.39.39.9.59 1.41.59.51 0 1.02-.2 1.41-.59l7.78-7.78 2.81-2.81c.8-.78.8-2.07 0-2.86zM5.41 20L4 18.59l7.72-7.72 1.47 1.35L5.41 20z\"/>\n",
              "  </svg>\n",
              "      </button>\n",
              "      \n",
              "  <style>\n",
              "    .colab-df-container {\n",
              "      display:flex;\n",
              "      flex-wrap:wrap;\n",
              "      gap: 12px;\n",
              "    }\n",
              "\n",
              "    .colab-df-convert {\n",
              "      background-color: #E8F0FE;\n",
              "      border: none;\n",
              "      border-radius: 50%;\n",
              "      cursor: pointer;\n",
              "      display: none;\n",
              "      fill: #1967D2;\n",
              "      height: 32px;\n",
              "      padding: 0 0 0 0;\n",
              "      width: 32px;\n",
              "    }\n",
              "\n",
              "    .colab-df-convert:hover {\n",
              "      background-color: #E2EBFA;\n",
              "      box-shadow: 0px 1px 2px rgba(60, 64, 67, 0.3), 0px 1px 3px 1px rgba(60, 64, 67, 0.15);\n",
              "      fill: #174EA6;\n",
              "    }\n",
              "\n",
              "    [theme=dark] .colab-df-convert {\n",
              "      background-color: #3B4455;\n",
              "      fill: #D2E3FC;\n",
              "    }\n",
              "\n",
              "    [theme=dark] .colab-df-convert:hover {\n",
              "      background-color: #434B5C;\n",
              "      box-shadow: 0px 1px 3px 1px rgba(0, 0, 0, 0.15);\n",
              "      filter: drop-shadow(0px 1px 2px rgba(0, 0, 0, 0.3));\n",
              "      fill: #FFFFFF;\n",
              "    }\n",
              "  </style>\n",
              "\n",
              "      <script>\n",
              "        const buttonEl =\n",
              "          document.querySelector('#df-b92f00a5-53b7-4172-acf8-7658577ff6b9 button.colab-df-convert');\n",
              "        buttonEl.style.display =\n",
              "          google.colab.kernel.accessAllowed ? 'block' : 'none';\n",
              "\n",
              "        async function convertToInteractive(key) {\n",
              "          const element = document.querySelector('#df-b92f00a5-53b7-4172-acf8-7658577ff6b9');\n",
              "          const dataTable =\n",
              "            await google.colab.kernel.invokeFunction('convertToInteractive',\n",
              "                                                     [key], {});\n",
              "          if (!dataTable) return;\n",
              "\n",
              "          const docLinkHtml = 'Like what you see? Visit the ' +\n",
              "            '<a target=\"_blank\" href=https://colab.research.google.com/notebooks/data_table.ipynb>data table notebook</a>'\n",
              "            + ' to learn more about interactive tables.';\n",
              "          element.innerHTML = '';\n",
              "          dataTable['output_type'] = 'display_data';\n",
              "          await google.colab.output.renderOutput(dataTable, element);\n",
              "          const docLink = document.createElement('div');\n",
              "          docLink.innerHTML = docLinkHtml;\n",
              "          element.appendChild(docLink);\n",
              "        }\n",
              "      </script>\n",
              "    </div>\n",
              "  </div>\n",
              "  "
            ]
          },
          "metadata": {},
          "execution_count": 5
        }
      ]
    },
    {
      "cell_type": "code",
      "source": [
        "dataset.describe()"
      ],
      "metadata": {
        "colab": {
          "base_uri": "https://localhost:8080/",
          "height": 300
        },
        "id": "drcQI2dBHF1W",
        "outputId": "381afcd5-ece6-414f-984f-00e4e2271e99"
      },
      "execution_count": 6,
      "outputs": [
        {
          "output_type": "execute_result",
          "data": {
            "text/plain": [
              "           UserName    ScreenName  Unnamed: 6\n",
              "count  44955.000000  44955.000000         0.0\n",
              "mean   22478.000000  67430.000000         NaN\n",
              "std    12977.535012  12977.535012         NaN\n",
              "min        1.000000  44953.000000         NaN\n",
              "25%    11239.500000  56191.500000         NaN\n",
              "50%    22478.000000  67430.000000         NaN\n",
              "75%    33716.500000  78668.500000         NaN\n",
              "max    44955.000000  89907.000000         NaN"
            ],
            "text/html": [
              "\n",
              "  <div id=\"df-486e5282-bf25-4b32-94bf-1553edb4df91\">\n",
              "    <div class=\"colab-df-container\">\n",
              "      <div>\n",
              "<style scoped>\n",
              "    .dataframe tbody tr th:only-of-type {\n",
              "        vertical-align: middle;\n",
              "    }\n",
              "\n",
              "    .dataframe tbody tr th {\n",
              "        vertical-align: top;\n",
              "    }\n",
              "\n",
              "    .dataframe thead th {\n",
              "        text-align: right;\n",
              "    }\n",
              "</style>\n",
              "<table border=\"1\" class=\"dataframe\">\n",
              "  <thead>\n",
              "    <tr style=\"text-align: right;\">\n",
              "      <th></th>\n",
              "      <th>UserName</th>\n",
              "      <th>ScreenName</th>\n",
              "      <th>Unnamed: 6</th>\n",
              "    </tr>\n",
              "  </thead>\n",
              "  <tbody>\n",
              "    <tr>\n",
              "      <th>count</th>\n",
              "      <td>44955.000000</td>\n",
              "      <td>44955.000000</td>\n",
              "      <td>0.0</td>\n",
              "    </tr>\n",
              "    <tr>\n",
              "      <th>mean</th>\n",
              "      <td>22478.000000</td>\n",
              "      <td>67430.000000</td>\n",
              "      <td>NaN</td>\n",
              "    </tr>\n",
              "    <tr>\n",
              "      <th>std</th>\n",
              "      <td>12977.535012</td>\n",
              "      <td>12977.535012</td>\n",
              "      <td>NaN</td>\n",
              "    </tr>\n",
              "    <tr>\n",
              "      <th>min</th>\n",
              "      <td>1.000000</td>\n",
              "      <td>44953.000000</td>\n",
              "      <td>NaN</td>\n",
              "    </tr>\n",
              "    <tr>\n",
              "      <th>25%</th>\n",
              "      <td>11239.500000</td>\n",
              "      <td>56191.500000</td>\n",
              "      <td>NaN</td>\n",
              "    </tr>\n",
              "    <tr>\n",
              "      <th>50%</th>\n",
              "      <td>22478.000000</td>\n",
              "      <td>67430.000000</td>\n",
              "      <td>NaN</td>\n",
              "    </tr>\n",
              "    <tr>\n",
              "      <th>75%</th>\n",
              "      <td>33716.500000</td>\n",
              "      <td>78668.500000</td>\n",
              "      <td>NaN</td>\n",
              "    </tr>\n",
              "    <tr>\n",
              "      <th>max</th>\n",
              "      <td>44955.000000</td>\n",
              "      <td>89907.000000</td>\n",
              "      <td>NaN</td>\n",
              "    </tr>\n",
              "  </tbody>\n",
              "</table>\n",
              "</div>\n",
              "      <button class=\"colab-df-convert\" onclick=\"convertToInteractive('df-486e5282-bf25-4b32-94bf-1553edb4df91')\"\n",
              "              title=\"Convert this dataframe to an interactive table.\"\n",
              "              style=\"display:none;\">\n",
              "        \n",
              "  <svg xmlns=\"http://www.w3.org/2000/svg\" height=\"24px\"viewBox=\"0 0 24 24\"\n",
              "       width=\"24px\">\n",
              "    <path d=\"M0 0h24v24H0V0z\" fill=\"none\"/>\n",
              "    <path d=\"M18.56 5.44l.94 2.06.94-2.06 2.06-.94-2.06-.94-.94-2.06-.94 2.06-2.06.94zm-11 1L8.5 8.5l.94-2.06 2.06-.94-2.06-.94L8.5 2.5l-.94 2.06-2.06.94zm10 10l.94 2.06.94-2.06 2.06-.94-2.06-.94-.94-2.06-.94 2.06-2.06.94z\"/><path d=\"M17.41 7.96l-1.37-1.37c-.4-.4-.92-.59-1.43-.59-.52 0-1.04.2-1.43.59L10.3 9.45l-7.72 7.72c-.78.78-.78 2.05 0 2.83L4 21.41c.39.39.9.59 1.41.59.51 0 1.02-.2 1.41-.59l7.78-7.78 2.81-2.81c.8-.78.8-2.07 0-2.86zM5.41 20L4 18.59l7.72-7.72 1.47 1.35L5.41 20z\"/>\n",
              "  </svg>\n",
              "      </button>\n",
              "      \n",
              "  <style>\n",
              "    .colab-df-container {\n",
              "      display:flex;\n",
              "      flex-wrap:wrap;\n",
              "      gap: 12px;\n",
              "    }\n",
              "\n",
              "    .colab-df-convert {\n",
              "      background-color: #E8F0FE;\n",
              "      border: none;\n",
              "      border-radius: 50%;\n",
              "      cursor: pointer;\n",
              "      display: none;\n",
              "      fill: #1967D2;\n",
              "      height: 32px;\n",
              "      padding: 0 0 0 0;\n",
              "      width: 32px;\n",
              "    }\n",
              "\n",
              "    .colab-df-convert:hover {\n",
              "      background-color: #E2EBFA;\n",
              "      box-shadow: 0px 1px 2px rgba(60, 64, 67, 0.3), 0px 1px 3px 1px rgba(60, 64, 67, 0.15);\n",
              "      fill: #174EA6;\n",
              "    }\n",
              "\n",
              "    [theme=dark] .colab-df-convert {\n",
              "      background-color: #3B4455;\n",
              "      fill: #D2E3FC;\n",
              "    }\n",
              "\n",
              "    [theme=dark] .colab-df-convert:hover {\n",
              "      background-color: #434B5C;\n",
              "      box-shadow: 0px 1px 3px 1px rgba(0, 0, 0, 0.15);\n",
              "      filter: drop-shadow(0px 1px 2px rgba(0, 0, 0, 0.3));\n",
              "      fill: #FFFFFF;\n",
              "    }\n",
              "  </style>\n",
              "\n",
              "      <script>\n",
              "        const buttonEl =\n",
              "          document.querySelector('#df-486e5282-bf25-4b32-94bf-1553edb4df91 button.colab-df-convert');\n",
              "        buttonEl.style.display =\n",
              "          google.colab.kernel.accessAllowed ? 'block' : 'none';\n",
              "\n",
              "        async function convertToInteractive(key) {\n",
              "          const element = document.querySelector('#df-486e5282-bf25-4b32-94bf-1553edb4df91');\n",
              "          const dataTable =\n",
              "            await google.colab.kernel.invokeFunction('convertToInteractive',\n",
              "                                                     [key], {});\n",
              "          if (!dataTable) return;\n",
              "\n",
              "          const docLinkHtml = 'Like what you see? Visit the ' +\n",
              "            '<a target=\"_blank\" href=https://colab.research.google.com/notebooks/data_table.ipynb>data table notebook</a>'\n",
              "            + ' to learn more about interactive tables.';\n",
              "          element.innerHTML = '';\n",
              "          dataTable['output_type'] = 'display_data';\n",
              "          await google.colab.output.renderOutput(dataTable, element);\n",
              "          const docLink = document.createElement('div');\n",
              "          docLink.innerHTML = docLinkHtml;\n",
              "          element.appendChild(docLink);\n",
              "        }\n",
              "      </script>\n",
              "    </div>\n",
              "  </div>\n",
              "  "
            ]
          },
          "metadata": {},
          "execution_count": 6
        }
      ]
    },
    {
      "cell_type": "code",
      "source": [
        "#@title Visualization libraries\n",
        "import matplotlib.pyplot as plt \n",
        "from matplotlib import rcParams\n",
        "import seaborn as sns\n",
        "from textblob import TextBlob\n",
        "from plotly import tools\n",
        "import plotly.graph_objs as go\n",
        "from plotly.offline import iplot\n",
        "%matplotlib inline\n",
        "plt.rcParams['figure.figsize'] = [10, 5]\n",
        "import cufflinks as cf\n",
        "cf.go_offline()\n",
        "cf.set_config_file(offline=False, world_readable=True)"
      ],
      "metadata": {
        "colab": {
          "base_uri": "https://localhost:8080/",
          "height": 17
        },
        "id": "K84uEPOx9SM3",
        "outputId": "a44d393f-1672-42d6-e272-b6a9210cf3cc"
      },
      "execution_count": 7,
      "outputs": [
        {
          "output_type": "display_data",
          "data": {
            "text/html": [
              "        <script type=\"text/javascript\">\n",
              "        window.PlotlyConfig = {MathJaxConfig: 'local'};\n",
              "        if (window.MathJax) {MathJax.Hub.Config({SVG: {font: \"STIX-Web\"}});}\n",
              "        if (typeof require !== 'undefined') {\n",
              "        require.undef(\"plotly\");\n",
              "        requirejs.config({\n",
              "            paths: {\n",
              "                'plotly': ['https://cdn.plot.ly/plotly-2.8.3.min']\n",
              "            }\n",
              "        });\n",
              "        require(['plotly'], function(Plotly) {\n",
              "            window._Plotly = Plotly;\n",
              "        });\n",
              "        }\n",
              "        </script>\n",
              "        "
            ]
          },
          "metadata": {}
        }
      ]
    },
    {
      "cell_type": "markdown",
      "source": [
        "Dataset Description"
      ],
      "metadata": {
        "id": "teY5Bzuglorx"
      }
    },
    {
      "cell_type": "code",
      "source": [
        "print(dataset.groupby(['Sentiment'])['Sentiment'].count())"
      ],
      "metadata": {
        "colab": {
          "base_uri": "https://localhost:8080/"
        },
        "id": "69kml2cussub",
        "outputId": "417dcc77-557a-4be1-d66c-5ae4275e7a34"
      },
      "execution_count": 16,
      "outputs": [
        {
          "output_type": "stream",
          "name": "stdout",
          "text": [
            "Sentiment\n",
            "Negative    13143\n",
            "Neutral     6594 \n",
            "Positive    15437\n",
            "Name: Sentiment, dtype: int64\n"
          ]
        }
      ]
    },
    {
      "cell_type": "code",
      "source": [],
      "metadata": {
        "id": "ItDWJi5g9fK7"
      },
      "execution_count": null,
      "outputs": []
    },
    {
      "cell_type": "markdown",
      "source": [
        "# Model\n",
        "*  **Preprocessing:** Lemmatization, Removing non-alphabetic character\n",
        "*  **Feature Extraction:** TF-IDF & Bag of Words"
      ],
      "metadata": {
        "id": "jRAsRSwlulVl"
      }
    },
    {
      "cell_type": "markdown",
      "source": [
        "**Model:**\n",
        "removing non alphabetic character"
      ],
      "metadata": {
        "id": "def1D3fUupBl"
      }
    },
    {
      "cell_type": "code",
      "source": [
        "# @title Data Preprocessing: Lemmatization\n",
        "nlp = spacy.load(\"en_core_web_sm\", disable=['parser', 'tagger', 'ner'])\n",
        "nlp.Defaults.stop_words -= {\"no\", \"not\", \"n't\", \"nothing\", \"without\", \"nobody\"}\n",
        "stops = stopwords.words(\"english\")\n",
        "\n",
        "def normalize(comment, lowercase, remove_stopwords):\n",
        "    if lowercase:\n",
        "        comment = comment.lower()\n",
        "    comment = re.sub('[^a-zA-Z]', ' ',comment)  #######################\n",
        "    comment = nlp(comment)\n",
        "    lemmatized = list()\n",
        "    for word in comment:\n",
        "        lemma = word.lemma_.strip()\n",
        "        if lemma:\n",
        "            if not remove_stopwords or (remove_stopwords and lemma not in stops):\n",
        "                lemmatized.append(lemma)\n",
        "    return \" \".join(lemmatized)\n",
        "\n",
        "\n",
        "dataset['OriginalTweet'] = dataset['OriginalTweet'].apply(normalize, lowercase=True, remove_stopwords=True)\n"
      ],
      "metadata": {
        "id": "DZ_B_z8AujwP"
      },
      "execution_count": 18,
      "outputs": []
    },
    {
      "cell_type": "markdown",
      "source": [
        "# Optional"
      ],
      "metadata": {
        "id": "GUZ47p2Zxqq0"
      }
    },
    {
      "cell_type": "markdown",
      "source": [
        "**Saving preprocessed data in CSV and downloading**"
      ],
      "metadata": {
        "id": "c4-Wo6S1xuKZ"
      }
    },
    {
      "cell_type": "code",
      "source": [
        "#run after preprocessing... it might give error bt dont worry,, file will create in local and can be downloaded\n",
        "dataset.to_csv('first_preprocessed_data1.csv', index=False)\n",
        "from google.colab import files\n",
        "files.download(\"first_preprocessed_data1.csv\")"
      ],
      "metadata": {
        "id": "4POEWuvmxx9Q",
        "colab": {
          "base_uri": "https://localhost:8080/",
          "height": 17
        },
        "outputId": "632bfe5c-d85b-48de-b9e2-924fcbc13c8d"
      },
      "execution_count": 19,
      "outputs": [
        {
          "output_type": "display_data",
          "data": {
            "text/plain": [
              "<IPython.core.display.Javascript object>"
            ],
            "application/javascript": [
              "\n",
              "    async function download(id, filename, size) {\n",
              "      if (!google.colab.kernel.accessAllowed) {\n",
              "        return;\n",
              "      }\n",
              "      const div = document.createElement('div');\n",
              "      const label = document.createElement('label');\n",
              "      label.textContent = `Downloading \"${filename}\": `;\n",
              "      div.appendChild(label);\n",
              "      const progress = document.createElement('progress');\n",
              "      progress.max = size;\n",
              "      div.appendChild(progress);\n",
              "      document.body.appendChild(div);\n",
              "\n",
              "      const buffers = [];\n",
              "      let downloaded = 0;\n",
              "\n",
              "      const channel = await google.colab.kernel.comms.open(id);\n",
              "      // Send a message to notify the kernel that we're ready.\n",
              "      channel.send({})\n",
              "\n",
              "      for await (const message of channel.messages) {\n",
              "        // Send a message to notify the kernel that we're ready.\n",
              "        channel.send({})\n",
              "        if (message.buffers) {\n",
              "          for (const buffer of message.buffers) {\n",
              "            buffers.push(buffer);\n",
              "            downloaded += buffer.byteLength;\n",
              "            progress.value = downloaded;\n",
              "          }\n",
              "        }\n",
              "      }\n",
              "      const blob = new Blob(buffers, {type: 'application/binary'});\n",
              "      const a = document.createElement('a');\n",
              "      a.href = window.URL.createObjectURL(blob);\n",
              "      a.download = filename;\n",
              "      div.appendChild(a);\n",
              "      a.click();\n",
              "      div.remove();\n",
              "    }\n",
              "  "
            ]
          },
          "metadata": {}
        },
        {
          "output_type": "display_data",
          "data": {
            "text/plain": [
              "<IPython.core.display.Javascript object>"
            ],
            "application/javascript": [
              "download(\"download_cca2e8ce-00c3-4f88-8688-1c63404c939f\", \"first_preprocessed_data1.csv\", 6666926)"
            ]
          },
          "metadata": {}
        }
      ]
    },
    {
      "cell_type": "code",
      "source": [
        "import numpy as np\n",
        "import matplotlib.pyplot as plt\n",
        "import pandas as pd\n",
        "\n",
        "dataset = pd.read_csv('/content/drive/MyDrive/PatternProject/first_preprocessed_data1.tsv', delimiter = '\\t', quoting = 3)\n",
        "dataset.head()"
      ],
      "metadata": {
        "colab": {
          "base_uri": "https://localhost:8080/",
          "height": 354
        },
        "id": "sTUZyQq2vO0r",
        "outputId": "363476b7-fcda-4058-fd2a-6305c12ae6aa"
      },
      "execution_count": 20,
      "outputs": [
        {
          "output_type": "execute_result",
          "data": {
            "text/plain": [
              "   ScreenName               Location   TweetAt  \\\n",
              "0  44953       NYC                    2/3/2020   \n",
              "1  44954       \"Seattle, WA\"          2/3/2020   \n",
              "2  44956       Chicagoland            2/3/2020   \n",
              "3  44957       \"Melbourne, Victoria\"  3/3/2020   \n",
              "4  44958       Los Angeles            3/3/2020   \n",
              "\n",
              "                                                                                                                                                                                                                                                                             OriginalTweet  \\\n",
              "0  \"trend : new yorker encounter empty supermarket shelve ( picture , wegmans brooklyn ) , sell - online grocer ( foodkick , maxdelivery ) # coronavirus - fear shopper stock https://t.co/gr76pcrlwh https://t.co/ivmkmsqdt1\"                                                               \n",
              "1  \"could find hand sanitizer fred meyer , turn # amazon . $ 114.97 2 pack purell??!!check # coronavirus concern drive price . https://t.co/ygbipbflmy\"                                                                                                                                      \n",
              "2  # panic buy hit # newyork city anxious shopper stock food&amp;medical supply # healthcare worker 30s become # bigapple 1st confirm # coronavirus patient # bloomberg stage event ? https://t.co/iasiregpc4 # qanon # qanon2018 # qanon2020 # election2020 # cdc https://t.co/29iszoewxu   \n",
              "3  # toiletpaper # dunnypaper # coronavirus # coronavirusaustralia # coronavirusupdate # covid_19 # 9news # corvid19 # 7newsmelb # dunnypapergate # costco one week everyone buy baby milk powder next everyone buy toilet paper . https://t.co/sczryvvsih                                   \n",
              "4  remember last time pay $ 2.99 gallon regular gas los angeles?prices pump go . look # coronavirus impact price . 4 p.m. @abc7 https://t.co/pyzq8ymuv5                                                                                                                                      \n",
              "\n",
              "  Sentiment  \n",
              "0  Negative  \n",
              "1  Positive  \n",
              "2  Negative  \n",
              "3  Neutral   \n",
              "4  Neutral   "
            ],
            "text/html": [
              "\n",
              "  <div id=\"df-00ec6a8a-a25c-42ea-9e58-fbe3ac201771\">\n",
              "    <div class=\"colab-df-container\">\n",
              "      <div>\n",
              "<style scoped>\n",
              "    .dataframe tbody tr th:only-of-type {\n",
              "        vertical-align: middle;\n",
              "    }\n",
              "\n",
              "    .dataframe tbody tr th {\n",
              "        vertical-align: top;\n",
              "    }\n",
              "\n",
              "    .dataframe thead th {\n",
              "        text-align: right;\n",
              "    }\n",
              "</style>\n",
              "<table border=\"1\" class=\"dataframe\">\n",
              "  <thead>\n",
              "    <tr style=\"text-align: right;\">\n",
              "      <th></th>\n",
              "      <th>ScreenName</th>\n",
              "      <th>Location</th>\n",
              "      <th>TweetAt</th>\n",
              "      <th>OriginalTweet</th>\n",
              "      <th>Sentiment</th>\n",
              "    </tr>\n",
              "  </thead>\n",
              "  <tbody>\n",
              "    <tr>\n",
              "      <th>0</th>\n",
              "      <td>44953</td>\n",
              "      <td>NYC</td>\n",
              "      <td>2/3/2020</td>\n",
              "      <td>\"trend : new yorker encounter empty supermarket shelve ( picture , wegmans brooklyn ) , sell - online grocer ( foodkick , maxdelivery ) # coronavirus - fear shopper stock https://t.co/gr76pcrlwh https://t.co/ivmkmsqdt1\"</td>\n",
              "      <td>Negative</td>\n",
              "    </tr>\n",
              "    <tr>\n",
              "      <th>1</th>\n",
              "      <td>44954</td>\n",
              "      <td>\"Seattle, WA\"</td>\n",
              "      <td>2/3/2020</td>\n",
              "      <td>\"could find hand sanitizer fred meyer , turn # amazon . $ 114.97 2 pack purell??!!check # coronavirus concern drive price . https://t.co/ygbipbflmy\"</td>\n",
              "      <td>Positive</td>\n",
              "    </tr>\n",
              "    <tr>\n",
              "      <th>2</th>\n",
              "      <td>44956</td>\n",
              "      <td>Chicagoland</td>\n",
              "      <td>2/3/2020</td>\n",
              "      <td># panic buy hit # newyork city anxious shopper stock food&amp;amp;medical supply # healthcare worker 30s become # bigapple 1st confirm # coronavirus patient # bloomberg stage event ? https://t.co/iasiregpc4 # qanon # qanon2018 # qanon2020 # election2020 # cdc https://t.co/29iszoewxu</td>\n",
              "      <td>Negative</td>\n",
              "    </tr>\n",
              "    <tr>\n",
              "      <th>3</th>\n",
              "      <td>44957</td>\n",
              "      <td>\"Melbourne, Victoria\"</td>\n",
              "      <td>3/3/2020</td>\n",
              "      <td># toiletpaper # dunnypaper # coronavirus # coronavirusaustralia # coronavirusupdate # covid_19 # 9news # corvid19 # 7newsmelb # dunnypapergate # costco one week everyone buy baby milk powder next everyone buy toilet paper . https://t.co/sczryvvsih</td>\n",
              "      <td>Neutral</td>\n",
              "    </tr>\n",
              "    <tr>\n",
              "      <th>4</th>\n",
              "      <td>44958</td>\n",
              "      <td>Los Angeles</td>\n",
              "      <td>3/3/2020</td>\n",
              "      <td>remember last time pay $ 2.99 gallon regular gas los angeles?prices pump go . look # coronavirus impact price . 4 p.m. @abc7 https://t.co/pyzq8ymuv5</td>\n",
              "      <td>Neutral</td>\n",
              "    </tr>\n",
              "  </tbody>\n",
              "</table>\n",
              "</div>\n",
              "      <button class=\"colab-df-convert\" onclick=\"convertToInteractive('df-00ec6a8a-a25c-42ea-9e58-fbe3ac201771')\"\n",
              "              title=\"Convert this dataframe to an interactive table.\"\n",
              "              style=\"display:none;\">\n",
              "        \n",
              "  <svg xmlns=\"http://www.w3.org/2000/svg\" height=\"24px\"viewBox=\"0 0 24 24\"\n",
              "       width=\"24px\">\n",
              "    <path d=\"M0 0h24v24H0V0z\" fill=\"none\"/>\n",
              "    <path d=\"M18.56 5.44l.94 2.06.94-2.06 2.06-.94-2.06-.94-.94-2.06-.94 2.06-2.06.94zm-11 1L8.5 8.5l.94-2.06 2.06-.94-2.06-.94L8.5 2.5l-.94 2.06-2.06.94zm10 10l.94 2.06.94-2.06 2.06-.94-2.06-.94-.94-2.06-.94 2.06-2.06.94z\"/><path d=\"M17.41 7.96l-1.37-1.37c-.4-.4-.92-.59-1.43-.59-.52 0-1.04.2-1.43.59L10.3 9.45l-7.72 7.72c-.78.78-.78 2.05 0 2.83L4 21.41c.39.39.9.59 1.41.59.51 0 1.02-.2 1.41-.59l7.78-7.78 2.81-2.81c.8-.78.8-2.07 0-2.86zM5.41 20L4 18.59l7.72-7.72 1.47 1.35L5.41 20z\"/>\n",
              "  </svg>\n",
              "      </button>\n",
              "      \n",
              "  <style>\n",
              "    .colab-df-container {\n",
              "      display:flex;\n",
              "      flex-wrap:wrap;\n",
              "      gap: 12px;\n",
              "    }\n",
              "\n",
              "    .colab-df-convert {\n",
              "      background-color: #E8F0FE;\n",
              "      border: none;\n",
              "      border-radius: 50%;\n",
              "      cursor: pointer;\n",
              "      display: none;\n",
              "      fill: #1967D2;\n",
              "      height: 32px;\n",
              "      padding: 0 0 0 0;\n",
              "      width: 32px;\n",
              "    }\n",
              "\n",
              "    .colab-df-convert:hover {\n",
              "      background-color: #E2EBFA;\n",
              "      box-shadow: 0px 1px 2px rgba(60, 64, 67, 0.3), 0px 1px 3px 1px rgba(60, 64, 67, 0.15);\n",
              "      fill: #174EA6;\n",
              "    }\n",
              "\n",
              "    [theme=dark] .colab-df-convert {\n",
              "      background-color: #3B4455;\n",
              "      fill: #D2E3FC;\n",
              "    }\n",
              "\n",
              "    [theme=dark] .colab-df-convert:hover {\n",
              "      background-color: #434B5C;\n",
              "      box-shadow: 0px 1px 3px 1px rgba(0, 0, 0, 0.15);\n",
              "      filter: drop-shadow(0px 1px 2px rgba(0, 0, 0, 0.3));\n",
              "      fill: #FFFFFF;\n",
              "    }\n",
              "  </style>\n",
              "\n",
              "      <script>\n",
              "        const buttonEl =\n",
              "          document.querySelector('#df-00ec6a8a-a25c-42ea-9e58-fbe3ac201771 button.colab-df-convert');\n",
              "        buttonEl.style.display =\n",
              "          google.colab.kernel.accessAllowed ? 'block' : 'none';\n",
              "\n",
              "        async function convertToInteractive(key) {\n",
              "          const element = document.querySelector('#df-00ec6a8a-a25c-42ea-9e58-fbe3ac201771');\n",
              "          const dataTable =\n",
              "            await google.colab.kernel.invokeFunction('convertToInteractive',\n",
              "                                                     [key], {});\n",
              "          if (!dataTable) return;\n",
              "\n",
              "          const docLinkHtml = 'Like what you see? Visit the ' +\n",
              "            '<a target=\"_blank\" href=https://colab.research.google.com/notebooks/data_table.ipynb>data table notebook</a>'\n",
              "            + ' to learn more about interactive tables.';\n",
              "          element.innerHTML = '';\n",
              "          dataTable['output_type'] = 'display_data';\n",
              "          await google.colab.output.renderOutput(dataTable, element);\n",
              "          const docLink = document.createElement('div');\n",
              "          docLink.innerHTML = docLinkHtml;\n",
              "          element.appendChild(docLink);\n",
              "        }\n",
              "      </script>\n",
              "    </div>\n",
              "  </div>\n",
              "  "
            ]
          },
          "metadata": {},
          "execution_count": 20
        }
      ]
    },
    {
      "cell_type": "code",
      "source": [
        "dataset.tail()"
      ],
      "metadata": {
        "colab": {
          "base_uri": "https://localhost:8080/",
          "height": 337
        },
        "id": "EilEqmqW26X6",
        "outputId": "506aef80-3354-4386-a162-1d7f959e2aec"
      },
      "execution_count": 21,
      "outputs": [
        {
          "output_type": "execute_result",
          "data": {
            "text/plain": [
              "       ScreenName                        Location     TweetAt  \\\n",
              "35169  89898       \"Brooklyn, NY\"                  14-04-2020   \n",
              "35170  89900       \"Toronto, Ontario\"              14-04-2020   \n",
              "35171  89901       OHIO                            14-04-2020   \n",
              "35172  89903       \"Wellington City, New Zealand\"  14-04-2020   \n",
              "35173  89907       i love you so much || he/him    14-04-2020   \n",
              "\n",
              "                                                                                                                                                                                        OriginalTweet  \\\n",
              "35169  yall really shit much much home ? ? # covid19 # coronavirus # toiletpaper                                                                                                                       \n",
              "35170  \"still shock numb # toronto supermarket employee work without sort mask . know , employee asymptomatic spread # coronavirus .\"                                                                   \n",
              "35171  \"never wed situation & amp ; world go supermarket , pick package mail like play russian roulette life # coronavirus # stayhome # socialdistancing\"                                              \n",
              "35172  airline pilot offer stock supermarket shelve # nz lockdown # covid-19 https://t.co/cz89ua0hnp                                                                                                    \n",
              "35173  @tartiicat good new / use rift go $ 700.00 amazon rn although normal market price usually $ 400.00 . price really crazy right vr headset since hl alex announce -PRON- wrong covid-19 . whethe   \n",
              "\n",
              "      Sentiment  \n",
              "35169  Negative  \n",
              "35170  Negative  \n",
              "35171  Positive  \n",
              "35172  Neutral   \n",
              "35173  Negative  "
            ],
            "text/html": [
              "\n",
              "  <div id=\"df-ec760823-73c9-4974-bae9-2c1649c0665d\">\n",
              "    <div class=\"colab-df-container\">\n",
              "      <div>\n",
              "<style scoped>\n",
              "    .dataframe tbody tr th:only-of-type {\n",
              "        vertical-align: middle;\n",
              "    }\n",
              "\n",
              "    .dataframe tbody tr th {\n",
              "        vertical-align: top;\n",
              "    }\n",
              "\n",
              "    .dataframe thead th {\n",
              "        text-align: right;\n",
              "    }\n",
              "</style>\n",
              "<table border=\"1\" class=\"dataframe\">\n",
              "  <thead>\n",
              "    <tr style=\"text-align: right;\">\n",
              "      <th></th>\n",
              "      <th>ScreenName</th>\n",
              "      <th>Location</th>\n",
              "      <th>TweetAt</th>\n",
              "      <th>OriginalTweet</th>\n",
              "      <th>Sentiment</th>\n",
              "    </tr>\n",
              "  </thead>\n",
              "  <tbody>\n",
              "    <tr>\n",
              "      <th>35169</th>\n",
              "      <td>89898</td>\n",
              "      <td>\"Brooklyn, NY\"</td>\n",
              "      <td>14-04-2020</td>\n",
              "      <td>yall really shit much much home ? ? # covid19 # coronavirus # toiletpaper</td>\n",
              "      <td>Negative</td>\n",
              "    </tr>\n",
              "    <tr>\n",
              "      <th>35170</th>\n",
              "      <td>89900</td>\n",
              "      <td>\"Toronto, Ontario\"</td>\n",
              "      <td>14-04-2020</td>\n",
              "      <td>\"still shock numb # toronto supermarket employee work without sort mask . know , employee asymptomatic spread # coronavirus .\"</td>\n",
              "      <td>Negative</td>\n",
              "    </tr>\n",
              "    <tr>\n",
              "      <th>35171</th>\n",
              "      <td>89901</td>\n",
              "      <td>OHIO</td>\n",
              "      <td>14-04-2020</td>\n",
              "      <td>\"never wed situation &amp; amp ; world go supermarket , pick package mail like play russian roulette life # coronavirus # stayhome # socialdistancing\"</td>\n",
              "      <td>Positive</td>\n",
              "    </tr>\n",
              "    <tr>\n",
              "      <th>35172</th>\n",
              "      <td>89903</td>\n",
              "      <td>\"Wellington City, New Zealand\"</td>\n",
              "      <td>14-04-2020</td>\n",
              "      <td>airline pilot offer stock supermarket shelve # nz lockdown # covid-19 https://t.co/cz89ua0hnp</td>\n",
              "      <td>Neutral</td>\n",
              "    </tr>\n",
              "    <tr>\n",
              "      <th>35173</th>\n",
              "      <td>89907</td>\n",
              "      <td>i love you so much || he/him</td>\n",
              "      <td>14-04-2020</td>\n",
              "      <td>@tartiicat good new / use rift go $ 700.00 amazon rn although normal market price usually $ 400.00 . price really crazy right vr headset since hl alex announce -PRON- wrong covid-19 . whethe</td>\n",
              "      <td>Negative</td>\n",
              "    </tr>\n",
              "  </tbody>\n",
              "</table>\n",
              "</div>\n",
              "      <button class=\"colab-df-convert\" onclick=\"convertToInteractive('df-ec760823-73c9-4974-bae9-2c1649c0665d')\"\n",
              "              title=\"Convert this dataframe to an interactive table.\"\n",
              "              style=\"display:none;\">\n",
              "        \n",
              "  <svg xmlns=\"http://www.w3.org/2000/svg\" height=\"24px\"viewBox=\"0 0 24 24\"\n",
              "       width=\"24px\">\n",
              "    <path d=\"M0 0h24v24H0V0z\" fill=\"none\"/>\n",
              "    <path d=\"M18.56 5.44l.94 2.06.94-2.06 2.06-.94-2.06-.94-.94-2.06-.94 2.06-2.06.94zm-11 1L8.5 8.5l.94-2.06 2.06-.94-2.06-.94L8.5 2.5l-.94 2.06-2.06.94zm10 10l.94 2.06.94-2.06 2.06-.94-2.06-.94-.94-2.06-.94 2.06-2.06.94z\"/><path d=\"M17.41 7.96l-1.37-1.37c-.4-.4-.92-.59-1.43-.59-.52 0-1.04.2-1.43.59L10.3 9.45l-7.72 7.72c-.78.78-.78 2.05 0 2.83L4 21.41c.39.39.9.59 1.41.59.51 0 1.02-.2 1.41-.59l7.78-7.78 2.81-2.81c.8-.78.8-2.07 0-2.86zM5.41 20L4 18.59l7.72-7.72 1.47 1.35L5.41 20z\"/>\n",
              "  </svg>\n",
              "      </button>\n",
              "      \n",
              "  <style>\n",
              "    .colab-df-container {\n",
              "      display:flex;\n",
              "      flex-wrap:wrap;\n",
              "      gap: 12px;\n",
              "    }\n",
              "\n",
              "    .colab-df-convert {\n",
              "      background-color: #E8F0FE;\n",
              "      border: none;\n",
              "      border-radius: 50%;\n",
              "      cursor: pointer;\n",
              "      display: none;\n",
              "      fill: #1967D2;\n",
              "      height: 32px;\n",
              "      padding: 0 0 0 0;\n",
              "      width: 32px;\n",
              "    }\n",
              "\n",
              "    .colab-df-convert:hover {\n",
              "      background-color: #E2EBFA;\n",
              "      box-shadow: 0px 1px 2px rgba(60, 64, 67, 0.3), 0px 1px 3px 1px rgba(60, 64, 67, 0.15);\n",
              "      fill: #174EA6;\n",
              "    }\n",
              "\n",
              "    [theme=dark] .colab-df-convert {\n",
              "      background-color: #3B4455;\n",
              "      fill: #D2E3FC;\n",
              "    }\n",
              "\n",
              "    [theme=dark] .colab-df-convert:hover {\n",
              "      background-color: #434B5C;\n",
              "      box-shadow: 0px 1px 3px 1px rgba(0, 0, 0, 0.15);\n",
              "      filter: drop-shadow(0px 1px 2px rgba(0, 0, 0, 0.3));\n",
              "      fill: #FFFFFF;\n",
              "    }\n",
              "  </style>\n",
              "\n",
              "      <script>\n",
              "        const buttonEl =\n",
              "          document.querySelector('#df-ec760823-73c9-4974-bae9-2c1649c0665d button.colab-df-convert');\n",
              "        buttonEl.style.display =\n",
              "          google.colab.kernel.accessAllowed ? 'block' : 'none';\n",
              "\n",
              "        async function convertToInteractive(key) {\n",
              "          const element = document.querySelector('#df-ec760823-73c9-4974-bae9-2c1649c0665d');\n",
              "          const dataTable =\n",
              "            await google.colab.kernel.invokeFunction('convertToInteractive',\n",
              "                                                     [key], {});\n",
              "          if (!dataTable) return;\n",
              "\n",
              "          const docLinkHtml = 'Like what you see? Visit the ' +\n",
              "            '<a target=\"_blank\" href=https://colab.research.google.com/notebooks/data_table.ipynb>data table notebook</a>'\n",
              "            + ' to learn more about interactive tables.';\n",
              "          element.innerHTML = '';\n",
              "          dataTable['output_type'] = 'display_data';\n",
              "          await google.colab.output.renderOutput(dataTable, element);\n",
              "          const docLink = document.createElement('div');\n",
              "          docLink.innerHTML = docLinkHtml;\n",
              "          element.appendChild(docLink);\n",
              "        }\n",
              "      </script>\n",
              "    </div>\n",
              "  </div>\n",
              "  "
            ]
          },
          "metadata": {},
          "execution_count": 21
        }
      ]
    },
    {
      "cell_type": "code",
      "source": [
        "len(dataset)"
      ],
      "metadata": {
        "colab": {
          "base_uri": "https://localhost:8080/"
        },
        "id": "XI5qIW3a3Fut",
        "outputId": "c2f0f767-b89e-4126-e55c-aa488ee08403"
      },
      "execution_count": 22,
      "outputs": [
        {
          "output_type": "execute_result",
          "data": {
            "text/plain": [
              "35174"
            ]
          },
          "metadata": {},
          "execution_count": 22
        }
      ]
    },
    {
      "cell_type": "code",
      "source": [
        "dataset.isnull().sum()"
      ],
      "metadata": {
        "colab": {
          "base_uri": "https://localhost:8080/"
        },
        "id": "mlIDHZwh3SsE",
        "outputId": "bfc0878e-ae66-4a6b-d5ad-f7db6c44e9ff"
      },
      "execution_count": 23,
      "outputs": [
        {
          "output_type": "execute_result",
          "data": {
            "text/plain": [
              "ScreenName       0\n",
              "Location         0\n",
              "TweetAt          0\n",
              "OriginalTweet    0\n",
              "Sentiment        0\n",
              "dtype: int64"
            ]
          },
          "metadata": {},
          "execution_count": 23
        }
      ]
    },
    {
      "cell_type": "code",
      "source": [
        "#@title Dataset Outcome Graph\n",
        "ax = sns.countplot(x='Sentiment', data=dataset)\n",
        "\n",
        "\n",
        "#Setting labels and font size\n",
        "ax.set(xlabel='Review Type', ylabel='Data Count',title='Count of Tweets')\n",
        "ax.xaxis.get_label().set_fontsize(15)\n",
        "ax.yaxis.get_label().set_fontsize(15)\n",
        "plt.show()"
      ],
      "metadata": {
        "colab": {
          "base_uri": "https://localhost:8080/",
          "height": 355
        },
        "id": "egCduB7f3e67",
        "outputId": "e8719211-66c0-47fa-9d9c-efe2ab9a9859"
      },
      "execution_count": 24,
      "outputs": [
        {
          "output_type": "display_data",
          "data": {
            "text/plain": [
              "<Figure size 720x360 with 1 Axes>"
            ],
            "image/png": "[encoded data removed]"
          },
          "metadata": {
            "needs_background": "light"
          }
        }
      ]
    },
    {
      "cell_type": "code",
      "source": [
        "#Extracting the features from the news\n",
        "df = []\n",
        "df = dataset.copy()\n",
        "df['polarity'] = df['OriginalTweet'].map(lambda text: TextBlob(text).sentiment.polarity)\n",
        "df['tweet_len'] = df['OriginalTweet'].astype(str).apply(len)\n",
        "df['word_count'] = df['OriginalTweet'].apply(lambda x: len(str(x).split()))\n",
        "\n",
        "#Plotting the distribution of the extracted feature\n",
        "plt.figure(figsize = (20, 5))\n",
        "plt.style.use('seaborn-white')\n",
        "plt.subplot(131)\n",
        "sns.distplot(df['polarity'])\n",
        "fig = plt.gcf()\n",
        "plt.subplot(132)\n",
        "sns.distplot(df['tweet_len'])\n",
        "fig = plt.gcf()\n",
        "plt.subplot(133)\n",
        "sns.distplot(df['word_count'])\n",
        "fig = plt.gcf()\n"
      ],
      "metadata": {
        "colab": {
          "base_uri": "https://localhost:8080/",
          "height": 558
        },
        "id": "vIH_YDpO33qT",
        "outputId": "6326f2d5-044a-4a98-e5de-87f9b1b5199b"
      },
      "execution_count": 25,
      "outputs": [
        {
          "output_type": "stream",
          "name": "stderr",
          "text": [
            "/usr/local/lib/python3.7/dist-packages/seaborn/distributions.py:2619: FutureWarning:\n",
            "\n",
            "`distplot` is a deprecated function and will be removed in a future version. Please adapt your code to use either `displot` (a figure-level function with similar flexibility) or `histplot` (an axes-level function for histograms).\n",
            "\n",
            "/usr/local/lib/python3.7/dist-packages/seaborn/distributions.py:2619: FutureWarning:\n",
            "\n",
            "`distplot` is a deprecated function and will be removed in a future version. Please adapt your code to use either `displot` (a figure-level function with similar flexibility) or `histplot` (an axes-level function for histograms).\n",
            "\n",
            "/usr/local/lib/python3.7/dist-packages/seaborn/distributions.py:2619: FutureWarning:\n",
            "\n",
            "`distplot` is a deprecated function and will be removed in a future version. Please adapt your code to use either `displot` (a figure-level function with similar flexibility) or `histplot` (an axes-level function for histograms).\n",
            "\n"
          ]
        },
        {
          "output_type": "display_data",
          "data": {
            "text/plain": [
              "<Figure size 1440x360 with 3 Axes>"
            ],
            "image/png": "[encoded data removed]"
          },
          "metadata": {
            "needs_background": "light"
          }
        }
      ]
    },
    {
      "cell_type": "markdown",
      "source": [
        "**TF-IDF model**"
      ],
      "metadata": {
        "id": "hnshyWFLu5j2"
      }
    },
    {
      "cell_type": "code",
      "source": [
        "# @title Feature Extraction: TF-IDF Model\n",
        "tfidf = TfidfVectorizer( ngram_range=(1,3), analyzer='char')\n",
        "x = tfidf.fit_transform(dataset['OriginalTweet'])\n",
        "y = dataset['Sentiment']\n",
        "x.shape"
      ],
      "metadata": {
        "colab": {
          "base_uri": "https://localhost:8080/"
        },
        "id": "qFb07Jt0ujpV",
        "outputId": "86585265-efa4-4356-99ff-e718d14083f5"
      },
      "execution_count": 26,
      "outputs": [
        {
          "output_type": "execute_result",
          "data": {
            "text/plain": [
              "(35174, 64749)"
            ]
          },
          "metadata": {},
          "execution_count": 26
        }
      ]
    },
    {
      "cell_type": "markdown",
      "source": [
        "**Splitting Dataset**"
      ],
      "metadata": {
        "id": "h5j_MJBru_Es"
      }
    },
    {
      "cell_type": "code",
      "source": [
        "# Splitting the dataset into the Training set and Test set\n",
        "x_train, x_test, y_train, y_test = train_test_split(x, y, test_size = 0.20, random_state = 0)"
      ],
      "metadata": {
        "id": "nDZQqdDFqr0d"
      },
      "execution_count": 27,
      "outputs": []
    },
    {
      "cell_type": "markdown",
      "source": [
        "**Support Vector Machine**"
      ],
      "metadata": {
        "id": "PTVxKQ9tvbAU"
      }
    },
    {
      "cell_type": "code",
      "source": [
        "import matplotlib.pyplot as plt\n",
        "import numpy as np\n",
        "from sklearn.datasets import make_blobs\n",
        "from sklearn.multiclass import OneVsRestClassifier\n",
        "from sklearn.svm import LinearSVC\n",
        "from sklearn.model_selection import train_test_split\n",
        "from sklearn.metrics import plot_confusion_matrix\n",
        "from mlxtend.plotting import plot_decision_regions"
      ],
      "metadata": {
        "id": "SkJuHknLS8Ko"
      },
      "execution_count": 28,
      "outputs": []
    },
    {
      "cell_type": "code",
      "source": [
        "#@title Support Vector Machine\n",
        "svm = LinearSVC()\n",
        "\n",
        "ovr_classifier = OneVsRestClassifier(svm)\n",
        "\n",
        "ovr_classifier.fit(x_train,y_train)\n",
        "y_pred = ovr_classifier.predict(x_test)"
      ],
      "metadata": {
        "id": "Ombr1ptCvCfg"
      },
      "execution_count": 29,
      "outputs": []
    },
    {
      "cell_type": "code",
      "source": [
        "# Making the Confusion Matrix\n",
        "cm = confusion_matrix(y_test, y_pred)\n",
        "print(cm)\n",
        "print(\"\\n\")\n",
        "print(classification_report(y_test,y_pred))\n",
        "\n",
        "print(\"\\n\")\n",
        "\n",
        "svm_accuracy = accuracy_score(y_test, y_pred)\n",
        "print('Accuracy: %f' % svm_accuracy)\n",
        "\n",
        "svm_precision = precision_score(y_test, y_pred, average=\"macro\", pos_label='positive')\n",
        "print('Precision: %f' % svm_precision)\n",
        "\n",
        "svm_recall = recall_score(y_test, y_pred, average=\"macro\", pos_label='positive')\n",
        "print('Recall: %f' % svm_recall)\n",
        "\n",
        "svm_f1_score = f1_score(y_test, y_pred, average=\"macro\", pos_label='positive')\n",
        "print('F1 Score: %f' % svm_f1_score)\n"
      ],
      "metadata": {
        "colab": {
          "base_uri": "https://localhost:8080/"
        },
        "id": "CdQaLLHgvCSt",
        "outputId": "d8f740aa-78c5-4c88-aaa3-f700e6810556"
      },
      "execution_count": 30,
      "outputs": [
        {
          "output_type": "stream",
          "name": "stdout",
          "text": [
            "[[1883  197  560]\n",
            " [ 270  639  386]\n",
            " [ 479  199 2422]]\n",
            "\n",
            "\n",
            "              precision    recall  f1-score   support\n",
            "\n",
            "    Negative       0.72      0.71      0.71      2640\n",
            "     Neutral       0.62      0.49      0.55      1295\n",
            "    Positive       0.72      0.78      0.75      3100\n",
            "\n",
            "    accuracy                           0.70      7035\n",
            "   macro avg       0.68      0.66      0.67      7035\n",
            "weighted avg       0.70      0.70      0.70      7035\n",
            "\n",
            "\n",
            "\n",
            "Accuracy: 0.702772\n",
            "Precision: 0.683979\n",
            "Recall: 0.662661\n",
            "F1 Score: 0.670585\n"
          ]
        },
        {
          "output_type": "stream",
          "name": "stderr",
          "text": [
            "/usr/local/lib/python3.7/dist-packages/sklearn/metrics/_classification.py:1375: UserWarning:\n",
            "\n",
            "Note that pos_label (set to 'positive') is ignored when average != 'binary' (got 'macro'). You may use labels=[pos_label] to specify a single positive class.\n",
            "\n",
            "/usr/local/lib/python3.7/dist-packages/sklearn/metrics/_classification.py:1375: UserWarning:\n",
            "\n",
            "Note that pos_label (set to 'positive') is ignored when average != 'binary' (got 'macro'). You may use labels=[pos_label] to specify a single positive class.\n",
            "\n",
            "/usr/local/lib/python3.7/dist-packages/sklearn/metrics/_classification.py:1375: UserWarning:\n",
            "\n",
            "Note that pos_label (set to 'positive') is ignored when average != 'binary' (got 'macro'). You may use labels=[pos_label] to specify a single positive class.\n",
            "\n"
          ]
        }
      ]
    },
    {
      "cell_type": "code",
      "source": [
        "ax = sns.heatmap(cm,annot=True,cmap='Blues', fmt='g')\n",
        "\n",
        "ax.set_title('Support Vector Machine with Lemmatization\\n\\n');\n",
        "ax.set_xlabel('\\nPredicted Values')\n",
        "ax.set_ylabel('Actual Values ');\n",
        "\n",
        "## Ticket labels - List must be in alphabetical order\n",
        "ax.xaxis.set_ticklabels(['Positive','Neutral','Negative'])\n",
        "ax.yaxis.set_ticklabels(['Positive','Neutral','Negative'])\n",
        "\n",
        "## Display the visualization of the Confusion Matrix.\n",
        "plt.show()"
      ],
      "metadata": {
        "colab": {
          "base_uri": "https://localhost:8080/",
          "height": 384
        },
        "id": "qYxzqypLv0vm",
        "outputId": "c997b2ba-49e2-4069-eea1-2000a5401fa0"
      },
      "execution_count": 31,
      "outputs": [
        {
          "output_type": "display_data",
          "data": {
            "text/plain": [
              "<Figure size 720x360 with 2 Axes>"
            ],
            "image/png": "[encoded data removed]"
          },
          "metadata": {}
        }
      ]
    },
    {
      "cell_type": "markdown",
      "source": [
        "**Logistic Regression**"
      ],
      "metadata": {
        "id": "p7EBp6dtwj1e"
      }
    },
    {
      "cell_type": "code",
      "source": [
        "from sklearn.datasets import make_classification\n",
        "from sklearn.linear_model import LogisticRegression\n",
        "from sklearn.multiclass import OneVsRestClassifier"
      ],
      "metadata": {
        "id": "FvqVRp-0Y6r7"
      },
      "execution_count": 32,
      "outputs": []
    },
    {
      "cell_type": "code",
      "source": [
        "# @title Logistic Regression\n",
        "log = LogisticRegression(solver='saga', max_iter=1000)\n",
        "ovr = OneVsRestClassifier(log)\n",
        "ovr.fit(x_train, y_train)\n",
        "y_pred = ovr.predict(x_test)"
      ],
      "metadata": {
        "id": "eXxEIOZEvB5W"
      },
      "execution_count": 33,
      "outputs": []
    },
    {
      "cell_type": "code",
      "source": [
        "# Making the Confusion Matrix\n",
        "cm = confusion_matrix(y_test, y_pred)\n",
        "print(cm)\n",
        "print(\"\\n\")\n",
        "print(classification_report(y_test,y_pred))\n",
        "\n",
        "print(\"\\n\")\n",
        "\n",
        "log_accuracy = accuracy_score(y_test, y_pred)\n",
        "print('Accuracy: %f' % log_accuracy)\n",
        "\n",
        "log_precision = precision_score(y_test, y_pred, average=\"macro\", pos_label='positive')\n",
        "print('Precision: %f' % log_precision)\n",
        "\n",
        "log_recall = recall_score(y_test, y_pred, average=\"macro\", pos_label='positive')\n",
        "print('Recall: %f' % log_recall)\n",
        "\n",
        "log_f1_score = f1_score(y_test, y_pred, average=\"macro\", pos_label='positive')\n",
        "print('F1 Score: %f' % log_f1_score)\n"
      ],
      "metadata": {
        "colab": {
          "base_uri": "https://localhost:8080/"
        },
        "id": "I2lkml2RvBtt",
        "outputId": "f1bf7be0-034b-40d1-fc03-76c6d8db9c02"
      },
      "execution_count": 34,
      "outputs": [
        {
          "output_type": "stream",
          "name": "stdout",
          "text": [
            "[[1811  159  670]\n",
            " [ 283  581  431]\n",
            " [ 480  177 2443]]\n",
            "\n",
            "\n",
            "              precision    recall  f1-score   support\n",
            "\n",
            "    Negative       0.70      0.69      0.69      2640\n",
            "     Neutral       0.63      0.45      0.53      1295\n",
            "    Positive       0.69      0.79      0.74      3100\n",
            "\n",
            "    accuracy                           0.69      7035\n",
            "   macro avg       0.68      0.64      0.65      7035\n",
            "weighted avg       0.68      0.69      0.68      7035\n",
            "\n",
            "\n",
            "\n",
            "Accuracy: 0.687278\n",
            "Precision: 0.675499\n",
            "Recall: 0.640899\n",
            "F1 Score: 0.651795\n"
          ]
        },
        {
          "output_type": "stream",
          "name": "stderr",
          "text": [
            "/usr/local/lib/python3.7/dist-packages/sklearn/metrics/_classification.py:1375: UserWarning:\n",
            "\n",
            "Note that pos_label (set to 'positive') is ignored when average != 'binary' (got 'macro'). You may use labels=[pos_label] to specify a single positive class.\n",
            "\n",
            "/usr/local/lib/python3.7/dist-packages/sklearn/metrics/_classification.py:1375: UserWarning:\n",
            "\n",
            "Note that pos_label (set to 'positive') is ignored when average != 'binary' (got 'macro'). You may use labels=[pos_label] to specify a single positive class.\n",
            "\n",
            "/usr/local/lib/python3.7/dist-packages/sklearn/metrics/_classification.py:1375: UserWarning:\n",
            "\n",
            "Note that pos_label (set to 'positive') is ignored when average != 'binary' (got 'macro'). You may use labels=[pos_label] to specify a single positive class.\n",
            "\n"
          ]
        }
      ]
    },
    {
      "cell_type": "code",
      "source": [
        "ax = sns.heatmap(cm,annot=True,cmap='Blues', fmt='g')\n",
        "\n",
        "ax.set_title('Logistic Regression with Lemmatization\\n\\n');\n",
        "ax.set_xlabel('\\nPredicted Values')\n",
        "ax.set_ylabel('Actual Values ');\n",
        "\n",
        "## Ticket labels - List must be in alphabetical order\n",
        "ax.xaxis.set_ticklabels(['Positive','Neutral','Negative'])\n",
        "ax.yaxis.set_ticklabels(['Positive','Neutral','Negative'])\n",
        "\n",
        "## Display the visualization of the Confusion Matrix.\n",
        "plt.show()"
      ],
      "metadata": {
        "colab": {
          "base_uri": "https://localhost:8080/",
          "height": 384
        },
        "id": "ez3eicnCwtdk",
        "outputId": "6065e33f-8d81-4524-ef6e-2255d4679f34"
      },
      "execution_count": 35,
      "outputs": [
        {
          "output_type": "display_data",
          "data": {
            "text/plain": [
              "<Figure size 720x360 with 2 Axes>"
            ],
            "image/png": "[encoded data removed]"
          },
          "metadata": {}
        }
      ]
    },
    {
      "cell_type": "markdown",
      "source": [
        "**Naive Bayes**"
      ],
      "metadata": {
        "id": "yznBgkppxst8"
      }
    },
    {
      "cell_type": "code",
      "source": [
        "# @title Naive Bayes\n",
        "# create and train the Naive Bayes Classifier\n",
        "import numpy as np\n",
        "from sklearn.datasets import make_classification\n",
        "from sklearn.multiclass import OneVsRestClassifier\n",
        "from sklearn.naive_bayes import MultinomialNB\n",
        "classifier = MultinomialNB()\n",
        "ovr = OneVsRestClassifier(classifier)\n",
        "ovr.fit(x_train, y_train)\n",
        "y_pred = ovr.predict(x_test)"
      ],
      "metadata": {
        "id": "84QQmItyws8z"
      },
      "execution_count": 36,
      "outputs": []
    },
    {
      "cell_type": "code",
      "source": [
        "# Making the Confusion Matrix\n",
        "cm = confusion_matrix(y_test, y_pred)\n",
        "print(cm)\n",
        "print(\"\\n\")\n",
        "print(classification_report(y_test,y_pred))\n",
        "\n",
        "print(\"\\n\")\n",
        "\n",
        "nb_accuracy = accuracy_score(y_test, y_pred)\n",
        "print('Accuracy: %f' % nb_accuracy)\n",
        "\n",
        "nb_precision = precision_score(y_test, y_pred, average=\"macro\", pos_label='positive')\n",
        "print('Precision: %f' % nb_precision)\n",
        "\n",
        "nb_recall = recall_score(y_test, y_pred, average=\"macro\", pos_label='positive')\n",
        "print('Recall: %f' % nb_recall)\n",
        "\n",
        "nb_f1_score = f1_score(y_test, y_pred, average=\"macro\", pos_label='positive')\n",
        "print('F1 Score: %f' % nb_f1_score)"
      ],
      "metadata": {
        "colab": {
          "base_uri": "https://localhost:8080/"
        },
        "id": "K3TfuwvFx7pz",
        "outputId": "3ecfaaad-780f-4777-81a0-09918fc1c786"
      },
      "execution_count": 37,
      "outputs": [
        {
          "output_type": "stream",
          "name": "stdout",
          "text": [
            "[[ 657    2 1981]\n",
            " [  99   10 1186]\n",
            " [ 107    0 2993]]\n",
            "\n",
            "\n",
            "              precision    recall  f1-score   support\n",
            "\n",
            "    Negative       0.76      0.25      0.38      2640\n",
            "     Neutral       0.83      0.01      0.02      1295\n",
            "    Positive       0.49      0.97      0.65      3100\n",
            "\n",
            "    accuracy                           0.52      7035\n",
            "   macro avg       0.69      0.41      0.35      7035\n",
            "weighted avg       0.65      0.52      0.43      7035\n",
            "\n",
            "\n",
            "\n",
            "Accuracy: 0.520256\n",
            "Precision: 0.693503\n",
            "Recall: 0.407357\n",
            "F1 Score: 0.345615\n"
          ]
        },
        {
          "output_type": "stream",
          "name": "stderr",
          "text": [
            "/usr/local/lib/python3.7/dist-packages/sklearn/metrics/_classification.py:1375: UserWarning:\n",
            "\n",
            "Note that pos_label (set to 'positive') is ignored when average != 'binary' (got 'macro'). You may use labels=[pos_label] to specify a single positive class.\n",
            "\n",
            "/usr/local/lib/python3.7/dist-packages/sklearn/metrics/_classification.py:1375: UserWarning:\n",
            "\n",
            "Note that pos_label (set to 'positive') is ignored when average != 'binary' (got 'macro'). You may use labels=[pos_label] to specify a single positive class.\n",
            "\n",
            "/usr/local/lib/python3.7/dist-packages/sklearn/metrics/_classification.py:1375: UserWarning:\n",
            "\n",
            "Note that pos_label (set to 'positive') is ignored when average != 'binary' (got 'macro'). You may use labels=[pos_label] to specify a single positive class.\n",
            "\n"
          ]
        }
      ]
    },
    {
      "cell_type": "code",
      "source": [
        "ax = sns.heatmap(cm,annot=True,cmap='Blues', fmt='g')\n",
        "\n",
        "ax.set_title('Naive Bayes with Lemmatization\\n\\n');\n",
        "ax.set_xlabel('\\nPredicted Values')\n",
        "ax.set_ylabel('Actual Values ');\n",
        "\n",
        "## Ticket labels - List must be in alphabetical order\n",
        "ax.xaxis.set_ticklabels(['Positive','Neutral','Negative'])\n",
        "ax.yaxis.set_ticklabels(['Positive','Neutral','Negative'])\n",
        "\n",
        "## Display the visualization of the Confusion Matrix.\n",
        "plt.show()"
      ],
      "metadata": {
        "colab": {
          "base_uri": "https://localhost:8080/",
          "height": 384
        },
        "id": "gYw6_E-GyBoE",
        "outputId": "714da676-ea66-40f6-f5ff-06ebd90a76a1"
      },
      "execution_count": 38,
      "outputs": [
        {
          "output_type": "display_data",
          "data": {
            "text/plain": [
              "<Figure size 720x360 with 2 Axes>"
            ],
            "image/png": "[encoded data removed]"
          },
          "metadata": {}
        }
      ]
    },
    {
      "cell_type": "markdown",
      "source": [
        "**Random Forest**"
      ],
      "metadata": {
        "id": "3INA8VFryIq_"
      }
    },
    {
      "cell_type": "code",
      "source": [
        "from sklearn.datasets import make_classification\n",
        "from sklearn.ensemble import RandomForestClassifier\n",
        "from sklearn.multiclass import OneVsRestClassifier"
      ],
      "metadata": {
        "id": "VhCCDU9QDxJn"
      },
      "execution_count": 39,
      "outputs": []
    },
    {
      "cell_type": "code",
      "source": [
        "# @title Random Forest\n",
        "rf = RandomForestClassifier(n_estimators=10,criterion = 'gini', random_state=0)\n",
        "ovr = OneVsRestClassifier(rf)\n",
        "ovr.fit(x_train, y_train)\n",
        "y_pred = ovr.predict(x_test)\n"
      ],
      "metadata": {
        "id": "l15TnU0qwsZ2"
      },
      "execution_count": 40,
      "outputs": []
    },
    {
      "cell_type": "code",
      "source": [
        "# Making the Confusion Matrix\n",
        "cm = confusion_matrix(y_test, y_pred)\n",
        "print(cm)\n",
        "print(\"\\n\")\n",
        "print(classification_report(y_test,y_pred))\n",
        "\n",
        "print(\"\\n\")\n",
        "\n",
        "rf_accuracy = accuracy_score(y_test, y_pred)\n",
        "print('Accuracy: %f' % rf_accuracy)\n",
        "\n",
        "rf_precision = precision_score(y_test, y_pred, average=\"macro\", pos_label='positive')\n",
        "print('Precision: %f' % rf_precision)\n",
        "\n",
        "rf_recall = recall_score(y_test, y_pred, average=\"macro\", pos_label='positive')\n",
        "print('Recall: %f' % rf_recall)\n",
        "\n",
        "rf_f1_score = f1_score(y_test, y_pred, average=\"macro\", pos_label='positive')\n",
        "print('F1 Score: %f' % rf_f1_score)\n"
      ],
      "metadata": {
        "colab": {
          "base_uri": "https://localhost:8080/"
        },
        "id": "cCmNXEKyySDj",
        "outputId": "e862740b-d350-4130-c8ac-c0d62ae6111b"
      },
      "execution_count": 41,
      "outputs": [
        {
          "output_type": "stream",
          "name": "stdout",
          "text": [
            "[[1180  170 1290]\n",
            " [ 291  350  654]\n",
            " [ 550  166 2384]]\n",
            "\n",
            "\n",
            "              precision    recall  f1-score   support\n",
            "\n",
            "    Negative       0.58      0.45      0.51      2640\n",
            "     Neutral       0.51      0.27      0.35      1295\n",
            "    Positive       0.55      0.77      0.64      3100\n",
            "\n",
            "    accuracy                           0.56      7035\n",
            "   macro avg       0.55      0.50      0.50      7035\n",
            "weighted avg       0.56      0.56      0.54      7035\n",
            "\n",
            "\n",
            "\n",
            "Accuracy: 0.556361\n",
            "Precision: 0.548302\n",
            "Recall: 0.495424\n",
            "F1 Score: 0.500527\n"
          ]
        },
        {
          "output_type": "stream",
          "name": "stderr",
          "text": [
            "/usr/local/lib/python3.7/dist-packages/sklearn/metrics/_classification.py:1375: UserWarning:\n",
            "\n",
            "Note that pos_label (set to 'positive') is ignored when average != 'binary' (got 'macro'). You may use labels=[pos_label] to specify a single positive class.\n",
            "\n",
            "/usr/local/lib/python3.7/dist-packages/sklearn/metrics/_classification.py:1375: UserWarning:\n",
            "\n",
            "Note that pos_label (set to 'positive') is ignored when average != 'binary' (got 'macro'). You may use labels=[pos_label] to specify a single positive class.\n",
            "\n",
            "/usr/local/lib/python3.7/dist-packages/sklearn/metrics/_classification.py:1375: UserWarning:\n",
            "\n",
            "Note that pos_label (set to 'positive') is ignored when average != 'binary' (got 'macro'). You may use labels=[pos_label] to specify a single positive class.\n",
            "\n"
          ]
        }
      ]
    },
    {
      "cell_type": "code",
      "source": [
        "ax = sns.heatmap(cm,annot=True,cmap='Blues', fmt='g')\n",
        "\n",
        "ax.set_title('Random Forest with Lemmatization\\n\\n');\n",
        "ax.set_xlabel('\\nPredicted Values')\n",
        "ax.set_ylabel('Actual Values ');\n",
        "\n",
        "## Ticket labels - List must be in alphabetical order\n",
        "ax.xaxis.set_ticklabels(['Positive','Neutral','Negative'])\n",
        "ax.yaxis.set_ticklabels(['Positive','Neutral','Negative'])\n",
        "\n",
        "## Display the visualization of the Confusion Matrix.\n",
        "plt.show()"
      ],
      "metadata": {
        "colab": {
          "base_uri": "https://localhost:8080/",
          "height": 384
        },
        "id": "2qOyBhcmyR2_",
        "outputId": "157df9cf-1abc-4836-bd4f-2664995bd0a8"
      },
      "execution_count": 42,
      "outputs": [
        {
          "output_type": "display_data",
          "data": {
            "text/plain": [
              "<Figure size 720x360 with 2 Axes>"
            ],
            "image/png": "[encoded data removed]"
          },
          "metadata": {}
        }
      ]
    },
    {
      "cell_type": "code",
      "source": [],
      "metadata": {
        "id": "RB22LN7QyfgB"
      },
      "execution_count": null,
      "outputs": []
    },
    {
      "cell_type": "markdown",
      "source": [
        "**XGBoost**"
      ],
      "metadata": {
        "id": "2MxTSDduyrLE"
      }
    },
    {
      "cell_type": "code",
      "source": [
        "# @title XGBoost\n",
        "xgb = XGBClassifier()\n",
        "ovr = OneVsRestClassifier(xgb)\n",
        "ovr.fit(x_train, y_train)\n",
        "y_pred = ovr.predict(x_test)"
      ],
      "metadata": {
        "id": "a_tyvwR1ysGp"
      },
      "execution_count": 43,
      "outputs": []
    },
    {
      "cell_type": "code",
      "source": [
        "# Making the Confusion Matrix\n",
        "cm = confusion_matrix(y_test, y_pred)\n",
        "print(cm)\n",
        "print(\"\\n\")\n",
        "print(classification_report(y_test,y_pred))\n",
        "\n",
        "print(\"\\n\")\n",
        "\n",
        "xgb_accuracy = accuracy_score(y_test, y_pred)\n",
        "print('Accuracy: %f' % xgb_accuracy)\n",
        "\n",
        "xgb_precision = precision_score(y_test, y_pred, average=\"macro\", pos_label='positive')\n",
        "print('Precision: %f' % xgb_precision)\n",
        "\n",
        "xgb_recall = recall_score(y_test, y_pred, average=\"macro\", pos_label='positive')\n",
        "print('Recall: %f' % xgb_recall)\n",
        "\n",
        "xgb_f1_score = f1_score(y_test, y_pred, average=\"macro\", pos_label='positive')\n",
        "print('F1 Score: %f' % xgb_f1_score)\n"
      ],
      "metadata": {
        "colab": {
          "base_uri": "https://localhost:8080/"
        },
        "id": "CkEYHOxCy7g8",
        "outputId": "330778a8-9455-46de-d410-24e8ba1597c8"
      },
      "execution_count": 45,
      "outputs": [
        {
          "output_type": "stream",
          "name": "stdout",
          "text": [
            "[[1687  179  774]\n",
            " [ 304  539  452]\n",
            " [ 520  194 2386]]\n",
            "\n",
            "\n",
            "              precision    recall  f1-score   support\n",
            "\n",
            "    Negative       0.67      0.64      0.66      2640\n",
            "     Neutral       0.59      0.42      0.49      1295\n",
            "    Positive       0.66      0.77      0.71      3100\n",
            "\n",
            "    accuracy                           0.66      7035\n",
            "   macro avg       0.64      0.61      0.62      7035\n",
            "weighted avg       0.65      0.66      0.65      7035\n",
            "\n",
            "\n",
            "\n",
            "Accuracy: 0.655579\n",
            "Precision: 0.641143\n",
            "Recall: 0.608303\n",
            "F1 Score: 0.618143\n"
          ]
        },
        {
          "output_type": "stream",
          "name": "stderr",
          "text": [
            "/usr/local/lib/python3.7/dist-packages/sklearn/metrics/_classification.py:1375: UserWarning:\n",
            "\n",
            "Note that pos_label (set to 'positive') is ignored when average != 'binary' (got 'macro'). You may use labels=[pos_label] to specify a single positive class.\n",
            "\n",
            "/usr/local/lib/python3.7/dist-packages/sklearn/metrics/_classification.py:1375: UserWarning:\n",
            "\n",
            "Note that pos_label (set to 'positive') is ignored when average != 'binary' (got 'macro'). You may use labels=[pos_label] to specify a single positive class.\n",
            "\n",
            "/usr/local/lib/python3.7/dist-packages/sklearn/metrics/_classification.py:1375: UserWarning:\n",
            "\n",
            "Note that pos_label (set to 'positive') is ignored when average != 'binary' (got 'macro'). You may use labels=[pos_label] to specify a single positive class.\n",
            "\n"
          ]
        }
      ]
    },
    {
      "cell_type": "code",
      "source": [
        "ax = sns.heatmap(cm,annot=True,cmap='Blues', fmt='g')\n",
        "\n",
        "ax.set_title('XGBoost with Lemmatization\\n\\n');\n",
        "ax.set_xlabel('\\nPredicted Values')\n",
        "ax.set_ylabel('Actual Values ');\n",
        "\n",
        "## Ticket labels - List must be in alphabetical order\n",
        "ax.xaxis.set_ticklabels(['Positive','Neutral','Negative'])\n",
        "ax.yaxis.set_ticklabels(['Positive','Neutral','Negative'])\n",
        "\n",
        "## Display the visualization of the Confusion Matrix.\n",
        "plt.show()"
      ],
      "metadata": {
        "colab": {
          "base_uri": "https://localhost:8080/",
          "height": 384
        },
        "id": "LbRhFhj9zEW-",
        "outputId": "2af8981b-14ec-4912-d70b-2d720f2ac753"
      },
      "execution_count": 46,
      "outputs": [
        {
          "output_type": "display_data",
          "data": {
            "text/plain": [
              "<Figure size 720x360 with 2 Axes>"
            ],
            "image/png": "[encoded data removed]"
          },
          "metadata": {}
        }
      ]
    },
    {
      "cell_type": "code",
      "source": [],
      "metadata": {
        "id": "Z6K_LfjyyRqr"
      },
      "execution_count": null,
      "outputs": []
    },
    {
      "cell_type": "markdown",
      "source": [
        "**Comparision Graphs**"
      ],
      "metadata": {
        "id": "SoT25sqQzNIQ"
      }
    },
    {
      "cell_type": "code",
      "source": [
        "# @title Comparision Graphs\n",
        "\n",
        "\n",
        "cmpDf = pd.DataFrame([['Accuracy', svm_accuracy, log_accuracy,nb_accuracy, rf_accuracy, xgb_accuracy], \n",
        "                      ['Precision', svm_precision, log_precision,nb_precision, rf_precision, xgb_precision], \n",
        "                      ['Recall', svm_recall, log_recall,nb_recall, rf_recall, xgb_recall],\n",
        "                      ['F1 Score', svm_f1_score, log_f1_score,nb_f1_score, rf_f1_score, xgb_f1_score]],\n",
        "                  columns=['Score', 'SVM', 'LR', 'NB', 'RF', 'XGB'])\n",
        "# view data\n",
        "print(cmpDf)\n",
        "print(\"\\n\\n\")\n",
        "\n",
        "# plot grouped bar chart\n",
        "ax = cmpDf.plot(x='Score',\n",
        "        figsize=(12,6),\n",
        "        kind='bar',\n",
        "        stacked=False,\n",
        "        title='Model 1: Performance Score')\n"
      ],
      "metadata": {
        "colab": {
          "base_uri": "https://localhost:8080/",
          "height": 570
        },
        "id": "quipFpEXyRgV",
        "outputId": "ce6bb63d-b5bf-495c-9cab-ef855679d072"
      },
      "execution_count": 47,
      "outputs": [
        {
          "output_type": "stream",
          "name": "stdout",
          "text": [
            "       Score       SVM        LR        NB        RF       XGB\n",
            "0  Accuracy   0.702772  0.687278  0.520256  0.556361  0.655579\n",
            "1  Precision  0.683979  0.675499  0.693503  0.548302  0.641143\n",
            "2  Recall     0.662661  0.640899  0.407357  0.495424  0.608303\n",
            "3  F1 Score   0.670585  0.651795  0.345615  0.500527  0.618143\n",
            "\n",
            "\n",
            "\n"
          ]
        },
        {
          "output_type": "display_data",
          "data": {
            "text/plain": [
              "<Figure size 864x432 with 1 Axes>"
            ],
            "image/png": "[encoded data removed]"
          },
          "metadata": {}
        }
      ]
    },
    {
      "cell_type": "code",
      "source": [],
      "metadata": {
        "id": "ZH8KVRMs7ZaG"
      },
      "execution_count": null,
      "outputs": []
    },
    {
      "cell_type": "markdown",
      "source": [
        "**Bag of Words**"
      ],
      "metadata": {
        "id": "CVselIKrMGhN"
      }
    },
    {
      "cell_type": "code",
      "source": [
        "# @title Feature Extraction: BOW Model\n",
        "from sklearn.feature_extraction.text import CountVectorizer\n",
        "cv = CountVectorizer(analyzer = \"word\",   \n",
        "                             tokenizer = None,    \n",
        "                             preprocessor = None, \n",
        "                             stop_words = None,   \n",
        "                             max_features = 2000)\n",
        "x = cv.fit_transform(dataset['OriginalTweet'])\n",
        "y = dataset['Sentiment']\n",
        "x.shape"
      ],
      "metadata": {
        "colab": {
          "base_uri": "https://localhost:8080/"
        },
        "id": "ZknYz2H67ZCd",
        "outputId": "eb608e0b-3fcf-45a0-c47b-377246a856b3"
      },
      "execution_count": 48,
      "outputs": [
        {
          "output_type": "execute_result",
          "data": {
            "text/plain": [
              "(35174, 2000)"
            ]
          },
          "metadata": {},
          "execution_count": 48
        }
      ]
    },
    {
      "cell_type": "markdown",
      "source": [
        "**Splitting Dataset**"
      ],
      "metadata": {
        "id": "97jBj5XzBIUB"
      }
    },
    {
      "cell_type": "code",
      "source": [
        "# Splitting the dataset into the Training set and Test set\n",
        "x_train, x_test, y_train, y_test = train_test_split(x, y, test_size = 0.20, random_state = 0)"
      ],
      "metadata": {
        "id": "DShdk7DJBTYt"
      },
      "execution_count": 49,
      "outputs": []
    },
    {
      "cell_type": "code",
      "source": [],
      "metadata": {
        "id": "txEYeqKsBXGD"
      },
      "execution_count": null,
      "outputs": []
    },
    {
      "cell_type": "markdown",
      "source": [
        "**Support Vector Machine**"
      ],
      "metadata": {
        "id": "MG44B9ZABg00"
      }
    },
    {
      "cell_type": "code",
      "source": [
        "#@title Support Vector Machine\n",
        "svm = LinearSVC()\n",
        "\n",
        "ovr_classifier = OneVsRestClassifier(svm)\n",
        "\n",
        "ovr_classifier.fit(x_train,y_train)\n",
        "y_pred = ovr_classifier.predict(x_test)"
      ],
      "metadata": {
        "colab": {
          "base_uri": "https://localhost:8080/"
        },
        "id": "MozBzuBZBi52",
        "outputId": "73796f21-3f9b-400b-cd80-d8a3a587ccb7"
      },
      "execution_count": 50,
      "outputs": [
        {
          "output_type": "stream",
          "name": "stderr",
          "text": [
            "/usr/local/lib/python3.7/dist-packages/sklearn/svm/_base.py:1208: ConvergenceWarning:\n",
            "\n",
            "Liblinear failed to converge, increase the number of iterations.\n",
            "\n",
            "/usr/local/lib/python3.7/dist-packages/sklearn/svm/_base.py:1208: ConvergenceWarning:\n",
            "\n",
            "Liblinear failed to converge, increase the number of iterations.\n",
            "\n",
            "/usr/local/lib/python3.7/dist-packages/sklearn/svm/_base.py:1208: ConvergenceWarning:\n",
            "\n",
            "Liblinear failed to converge, increase the number of iterations.\n",
            "\n"
          ]
        }
      ]
    },
    {
      "cell_type": "code",
      "source": [
        "# Making the Confusion Matrix\n",
        "cm = confusion_matrix(y_test, y_pred)\n",
        "print(cm)\n",
        "print(\"\\n\")\n",
        "print(classification_report(y_test,y_pred))\n",
        "\n",
        "print(\"\\n\")\n",
        "\n",
        "svm_accuracy = accuracy_score(y_test, y_pred)\n",
        "print('Accuracy: %f' % svm_accuracy)\n",
        "\n",
        "svm_precision = precision_score(y_test, y_pred, average=\"macro\", pos_label='positive')\n",
        "print('Precision: %f' % svm_precision)\n",
        "\n",
        "svm_recall = recall_score(y_test, y_pred, average=\"macro\", pos_label='positive')\n",
        "print('Recall: %f' % svm_recall)\n",
        "\n",
        "svm_f1_score = f1_score(y_test, y_pred, average=\"macro\", pos_label='positive')\n",
        "print('F1 Score: %f' % svm_f1_score)\n"
      ],
      "metadata": {
        "colab": {
          "base_uri": "https://localhost:8080/"
        },
        "id": "JIsWY830Bk_G",
        "outputId": "49778df7-2b00-42fe-bd5b-0b67d7130641"
      },
      "execution_count": 51,
      "outputs": [
        {
          "output_type": "stream",
          "name": "stdout",
          "text": [
            "[[2089  214  337]\n",
            " [ 183  906  206]\n",
            " [ 303  207 2590]]\n",
            "\n",
            "\n",
            "              precision    recall  f1-score   support\n",
            "\n",
            "    Negative       0.81      0.79      0.80      2640\n",
            "     Neutral       0.68      0.70      0.69      1295\n",
            "    Positive       0.83      0.84      0.83      3100\n",
            "\n",
            "    accuracy                           0.79      7035\n",
            "   macro avg       0.77      0.78      0.77      7035\n",
            "weighted avg       0.79      0.79      0.79      7035\n",
            "\n",
            "\n",
            "\n",
            "Accuracy: 0.793888\n",
            "Precision: 0.773563\n",
            "Recall: 0.775462\n",
            "F1 Score: 0.774429\n"
          ]
        },
        {
          "output_type": "stream",
          "name": "stderr",
          "text": [
            "/usr/local/lib/python3.7/dist-packages/sklearn/metrics/_classification.py:1375: UserWarning:\n",
            "\n",
            "Note that pos_label (set to 'positive') is ignored when average != 'binary' (got 'macro'). You may use labels=[pos_label] to specify a single positive class.\n",
            "\n",
            "/usr/local/lib/python3.7/dist-packages/sklearn/metrics/_classification.py:1375: UserWarning:\n",
            "\n",
            "Note that pos_label (set to 'positive') is ignored when average != 'binary' (got 'macro'). You may use labels=[pos_label] to specify a single positive class.\n",
            "\n",
            "/usr/local/lib/python3.7/dist-packages/sklearn/metrics/_classification.py:1375: UserWarning:\n",
            "\n",
            "Note that pos_label (set to 'positive') is ignored when average != 'binary' (got 'macro'). You may use labels=[pos_label] to specify a single positive class.\n",
            "\n"
          ]
        }
      ]
    },
    {
      "cell_type": "code",
      "source": [
        "ax = sns.heatmap(cm,annot=True,cmap='Blues', fmt='g')\n",
        "\n",
        "ax.set_title('Support Vector Machine with Bag of Words\\n\\n');\n",
        "ax.set_xlabel('\\nPredicted Values')\n",
        "ax.set_ylabel('Actual Values ');\n",
        "\n",
        "## Ticket labels - List must be in alphabetical order\n",
        "ax.xaxis.set_ticklabels(['Positive','Neutral','Negative'])\n",
        "ax.yaxis.set_ticklabels(['Positive','Neutral','Negative'])\n",
        "\n",
        "## Display the visualization of the Confusion Matrix.\n",
        "plt.show()"
      ],
      "metadata": {
        "colab": {
          "base_uri": "https://localhost:8080/",
          "height": 384
        },
        "id": "IL3yASYpBm82",
        "outputId": "3fe7dd4f-ab54-445e-ae38-93a7b6ea790c"
      },
      "execution_count": 44,
      "outputs": [
        {
          "output_type": "display_data",
          "data": {
            "text/plain": [
              "<Figure size 720x360 with 2 Axes>"
            ],
            "image/png": "[encoded data removed]"
          },
          "metadata": {}
        }
      ]
    },
    {
      "cell_type": "code",
      "source": [],
      "metadata": {
        "id": "nBlk6xrzBpJ2"
      },
      "execution_count": null,
      "outputs": []
    },
    {
      "cell_type": "markdown",
      "source": [
        "**Logistic Regression**"
      ],
      "metadata": {
        "id": "hzryHqISBpus"
      }
    },
    {
      "cell_type": "code",
      "source": [
        "# @title Logistic Regression\n",
        "log = LogisticRegression(solver='saga', max_iter=1000)\n",
        "ovr = OneVsRestClassifier(log)\n",
        "ovr.fit(x_train, y_train)\n",
        "y_pred = ovr.predict(x_test)"
      ],
      "metadata": {
        "colab": {
          "base_uri": "https://localhost:8080/"
        },
        "id": "y6QT54_LBqke",
        "outputId": "0766db95-4dda-46b2-9a58-6358f30ce81e"
      },
      "execution_count": 52,
      "outputs": [
        {
          "output_type": "stream",
          "name": "stderr",
          "text": [
            "/usr/local/lib/python3.7/dist-packages/sklearn/linear_model/_sag.py:354: ConvergenceWarning:\n",
            "\n",
            "The max_iter was reached which means the coef_ did not converge\n",
            "\n",
            "/usr/local/lib/python3.7/dist-packages/sklearn/linear_model/_sag.py:354: ConvergenceWarning:\n",
            "\n",
            "The max_iter was reached which means the coef_ did not converge\n",
            "\n",
            "/usr/local/lib/python3.7/dist-packages/sklearn/linear_model/_sag.py:354: ConvergenceWarning:\n",
            "\n",
            "The max_iter was reached which means the coef_ did not converge\n",
            "\n"
          ]
        }
      ]
    },
    {
      "cell_type": "code",
      "source": [
        "# Making the Confusion Matrix\n",
        "cm = confusion_matrix(y_test, y_pred)\n",
        "print(cm)\n",
        "print(\"\\n\")\n",
        "print(classification_report(y_test,y_pred))\n",
        "\n",
        "print(\"\\n\")\n",
        "\n",
        "log_accuracy = accuracy_score(y_test, y_pred)\n",
        "print('Accuracy: %f' % log_accuracy)\n",
        "\n",
        "log_precision = precision_score(y_test, y_pred, average=\"macro\", pos_label='positive')\n",
        "print('Precision: %f' % log_precision)\n",
        "\n",
        "log_recall = recall_score(y_test, y_pred, average=\"macro\", pos_label='positive')\n",
        "print('Recall: %f' % log_recall)\n",
        "\n",
        "log_f1_score = f1_score(y_test, y_pred, average=\"macro\", pos_label='positive')\n",
        "print('F1 Score: %f' % log_f1_score)\n"
      ],
      "metadata": {
        "colab": {
          "base_uri": "https://localhost:8080/"
        },
        "id": "26wy3KDFBvNT",
        "outputId": "fd18fe41-06cb-4928-dc8c-cb5448b21fec"
      },
      "execution_count": 53,
      "outputs": [
        {
          "output_type": "stream",
          "name": "stdout",
          "text": [
            "[[2063  166  411]\n",
            " [ 225  799  271]\n",
            " [ 336  159 2605]]\n",
            "\n",
            "\n",
            "              precision    recall  f1-score   support\n",
            "\n",
            "    Negative       0.79      0.78      0.78      2640\n",
            "     Neutral       0.71      0.62      0.66      1295\n",
            "    Positive       0.79      0.84      0.82      3100\n",
            "\n",
            "    accuracy                           0.78      7035\n",
            "   macro avg       0.76      0.75      0.75      7035\n",
            "weighted avg       0.78      0.78      0.78      7035\n",
            "\n",
            "\n",
            "\n",
            "Accuracy: 0.777114\n",
            "Precision: 0.763191\n",
            "Recall: 0.746250\n",
            "F1 Score: 0.753379\n"
          ]
        },
        {
          "output_type": "stream",
          "name": "stderr",
          "text": [
            "/usr/local/lib/python3.7/dist-packages/sklearn/metrics/_classification.py:1375: UserWarning:\n",
            "\n",
            "Note that pos_label (set to 'positive') is ignored when average != 'binary' (got 'macro'). You may use labels=[pos_label] to specify a single positive class.\n",
            "\n",
            "/usr/local/lib/python3.7/dist-packages/sklearn/metrics/_classification.py:1375: UserWarning:\n",
            "\n",
            "Note that pos_label (set to 'positive') is ignored when average != 'binary' (got 'macro'). You may use labels=[pos_label] to specify a single positive class.\n",
            "\n",
            "/usr/local/lib/python3.7/dist-packages/sklearn/metrics/_classification.py:1375: UserWarning:\n",
            "\n",
            "Note that pos_label (set to 'positive') is ignored when average != 'binary' (got 'macro'). You may use labels=[pos_label] to specify a single positive class.\n",
            "\n"
          ]
        }
      ]
    },
    {
      "cell_type": "code",
      "source": [
        "ax = sns.heatmap(cm,annot=True,cmap='Blues', fmt='g')\n",
        "\n",
        "ax.set_title('Logistic Regression with Bag of Words\\n\\n');\n",
        "ax.set_xlabel('\\nPredicted Values')\n",
        "ax.set_ylabel('Actual Values ');\n",
        "\n",
        "## Ticket labels - List must be in alphabetical order\n",
        "ax.xaxis.set_ticklabels(['Positive','Neutral','Negative'])\n",
        "ax.yaxis.set_ticklabels(['Positive','Neutral','Negative'])\n",
        "\n",
        "## Display the visualization of the Confusion Matrix.\n",
        "plt.show()"
      ],
      "metadata": {
        "colab": {
          "base_uri": "https://localhost:8080/",
          "height": 384
        },
        "id": "god8tr7XBwCc",
        "outputId": "6b37f6fc-804c-47da-e528-af8ee4d5e029"
      },
      "execution_count": 55,
      "outputs": [
        {
          "output_type": "display_data",
          "data": {
            "text/plain": [
              "<Figure size 720x360 with 2 Axes>"
            ],
            "image/png": "[encoded data removed]"
          },
          "metadata": {}
        }
      ]
    },
    {
      "cell_type": "code",
      "source": [],
      "metadata": {
        "id": "GPyVhqi_ByIA"
      },
      "execution_count": null,
      "outputs": []
    },
    {
      "cell_type": "markdown",
      "source": [
        "**Naive Bayes**"
      ],
      "metadata": {
        "id": "VkkAQWWiBz3j"
      }
    },
    {
      "cell_type": "code",
      "source": [
        "# create and train the Naive Bayes Classifier\n",
        "# @title Naive Bayes\n",
        "import numpy as np\n",
        "from sklearn.datasets import make_classification\n",
        "from sklearn.multiclass import OneVsRestClassifier\n",
        "from sklearn.naive_bayes import MultinomialNB\n",
        "classifier = MultinomialNB()\n",
        "ovr = OneVsRestClassifier(classifier)\n",
        "ovr.fit(x_train, y_train)\n",
        "y_pred = ovr.predict(x_test)"
      ],
      "metadata": {
        "id": "sklfHqlpB08G"
      },
      "execution_count": 56,
      "outputs": []
    },
    {
      "cell_type": "code",
      "source": [
        "# Making the Confusion Matrix\n",
        "cm = confusion_matrix(y_test, y_pred)\n",
        "print(cm)\n",
        "print(\"\\n\")\n",
        "print(classification_report(y_test,y_pred))\n",
        "\n",
        "print(\"\\n\")\n",
        "\n",
        "nb_accuracy = accuracy_score(y_test, y_pred)\n",
        "print('Accuracy: %f' % nb_accuracy)\n",
        "\n",
        "nb_precision = precision_score(y_test, y_pred, average=\"macro\", pos_label='positive')\n",
        "print('Precision: %f' % nb_precision)\n",
        "\n",
        "nb_recall = recall_score(y_test, y_pred, average=\"macro\", pos_label='positive')\n",
        "print('Recall: %f' % nb_recall)\n",
        "\n",
        "nb_f1_score = f1_score(y_test, y_pred, average=\"macro\", pos_label='positive')\n",
        "print('F1 Score: %f' % nb_f1_score)"
      ],
      "metadata": {
        "colab": {
          "base_uri": "https://localhost:8080/"
        },
        "id": "hjo7vif4B3ZQ",
        "outputId": "c102a1df-64fd-46f1-e394-c3d54da46902"
      },
      "execution_count": 57,
      "outputs": [
        {
          "output_type": "stream",
          "name": "stdout",
          "text": [
            "[[1902  253  485]\n",
            " [ 279  698  318]\n",
            " [ 482  291 2327]]\n",
            "\n",
            "\n",
            "              precision    recall  f1-score   support\n",
            "\n",
            "    Negative       0.71      0.72      0.72      2640\n",
            "     Neutral       0.56      0.54      0.55      1295\n",
            "    Positive       0.74      0.75      0.75      3100\n",
            "\n",
            "    accuracy                           0.70      7035\n",
            "   macro avg       0.67      0.67      0.67      7035\n",
            "weighted avg       0.70      0.70      0.70      7035\n",
            "\n",
            "\n",
            "\n",
            "Accuracy: 0.700355\n",
            "Precision: 0.673226\n",
            "Recall: 0.670032\n",
            "F1 Score: 0.671539\n"
          ]
        },
        {
          "output_type": "stream",
          "name": "stderr",
          "text": [
            "/usr/local/lib/python3.7/dist-packages/sklearn/metrics/_classification.py:1375: UserWarning:\n",
            "\n",
            "Note that pos_label (set to 'positive') is ignored when average != 'binary' (got 'macro'). You may use labels=[pos_label] to specify a single positive class.\n",
            "\n",
            "/usr/local/lib/python3.7/dist-packages/sklearn/metrics/_classification.py:1375: UserWarning:\n",
            "\n",
            "Note that pos_label (set to 'positive') is ignored when average != 'binary' (got 'macro'). You may use labels=[pos_label] to specify a single positive class.\n",
            "\n",
            "/usr/local/lib/python3.7/dist-packages/sklearn/metrics/_classification.py:1375: UserWarning:\n",
            "\n",
            "Note that pos_label (set to 'positive') is ignored when average != 'binary' (got 'macro'). You may use labels=[pos_label] to specify a single positive class.\n",
            "\n"
          ]
        }
      ]
    },
    {
      "cell_type": "code",
      "source": [
        "ax = sns.heatmap(cm,annot=True,cmap='Blues', fmt='g')\n",
        "\n",
        "ax.set_title('Naive Bayes with Bag of Words\\n\\n');\n",
        "ax.set_xlabel('\\nPredicted Values')\n",
        "ax.set_ylabel('Actual Values ');\n",
        "\n",
        "## Ticket labels - List must be in alphabetical order\n",
        "ax.xaxis.set_ticklabels(['Positive','Neutral','Negative'])\n",
        "ax.yaxis.set_ticklabels(['Positive','Neutral','Negative'])\n",
        "\n",
        "## Display the visualization of the Confusion Matrix.\n",
        "plt.show()"
      ],
      "metadata": {
        "colab": {
          "base_uri": "https://localhost:8080/",
          "height": 384
        },
        "id": "TWCFzsK2B5WG",
        "outputId": "2ba23d23-ae47-48c5-afcf-b8a3aa7bc5f0"
      },
      "execution_count": 58,
      "outputs": [
        {
          "output_type": "display_data",
          "data": {
            "text/plain": [
              "<Figure size 720x360 with 2 Axes>"
            ],
            "image/png": "[encoded data removed]"
          },
          "metadata": {}
        }
      ]
    },
    {
      "cell_type": "code",
      "source": [],
      "metadata": {
        "id": "TIZWRZyMB8Hg"
      },
      "execution_count": null,
      "outputs": []
    },
    {
      "cell_type": "markdown",
      "source": [
        "**Random Forest**"
      ],
      "metadata": {
        "id": "XbxBMQWlB9E5"
      }
    },
    {
      "cell_type": "code",
      "source": [
        "# @title Random Forest\n",
        "rf = RandomForestClassifier(n_estimators=10,criterion = 'gini', random_state=0)\n",
        "ovr = OneVsRestClassifier(rf)\n",
        "ovr.fit(x_train, y_train)\n",
        "y_pred = ovr.predict(x_test)\n"
      ],
      "metadata": {
        "id": "ncLMOpJxB_dG"
      },
      "execution_count": 59,
      "outputs": []
    },
    {
      "cell_type": "code",
      "source": [
        "# Making the Confusion Matrix\n",
        "cm = confusion_matrix(y_test, y_pred)\n",
        "print(cm)\n",
        "print(\"\\n\")\n",
        "print(classification_report(y_test,y_pred))\n",
        "\n",
        "print(\"\\n\")\n",
        "\n",
        "rf_accuracy = accuracy_score(y_test, y_pred)\n",
        "print('Accuracy: %f' % rf_accuracy)\n",
        "\n",
        "rf_precision = precision_score(y_test, y_pred, average=\"macro\", pos_label='positive')\n",
        "print('Precision: %f' % rf_precision)\n",
        "\n",
        "rf_recall = recall_score(y_test, y_pred, average=\"macro\", pos_label='positive')\n",
        "print('Recall: %f' % rf_recall)\n",
        "\n",
        "rf_f1_score = f1_score(y_test, y_pred, average=\"macro\", pos_label='positive')\n",
        "print('F1 Score: %f' % rf_f1_score)\n"
      ],
      "metadata": {
        "colab": {
          "base_uri": "https://localhost:8080/"
        },
        "id": "OzhM5KU2CCNw",
        "outputId": "993e7914-921e-4763-ce5e-d179d0c409d7"
      },
      "execution_count": 60,
      "outputs": [
        {
          "output_type": "stream",
          "name": "stdout",
          "text": [
            "[[1817  213  610]\n",
            " [ 190  822  283]\n",
            " [ 329  149 2622]]\n",
            "\n",
            "\n",
            "              precision    recall  f1-score   support\n",
            "\n",
            "    Negative       0.78      0.69      0.73      2640\n",
            "     Neutral       0.69      0.63      0.66      1295\n",
            "    Positive       0.75      0.85      0.79      3100\n",
            "\n",
            "    accuracy                           0.75      7035\n",
            "   macro avg       0.74      0.72      0.73      7035\n",
            "weighted avg       0.75      0.75      0.75      7035\n",
            "\n",
            "\n",
            "\n",
            "Accuracy: 0.747832\n",
            "Precision: 0.739343\n",
            "Recall: 0.722938\n",
            "F1 Score: 0.728740\n"
          ]
        },
        {
          "output_type": "stream",
          "name": "stderr",
          "text": [
            "/usr/local/lib/python3.7/dist-packages/sklearn/metrics/_classification.py:1375: UserWarning:\n",
            "\n",
            "Note that pos_label (set to 'positive') is ignored when average != 'binary' (got 'macro'). You may use labels=[pos_label] to specify a single positive class.\n",
            "\n",
            "/usr/local/lib/python3.7/dist-packages/sklearn/metrics/_classification.py:1375: UserWarning:\n",
            "\n",
            "Note that pos_label (set to 'positive') is ignored when average != 'binary' (got 'macro'). You may use labels=[pos_label] to specify a single positive class.\n",
            "\n",
            "/usr/local/lib/python3.7/dist-packages/sklearn/metrics/_classification.py:1375: UserWarning:\n",
            "\n",
            "Note that pos_label (set to 'positive') is ignored when average != 'binary' (got 'macro'). You may use labels=[pos_label] to specify a single positive class.\n",
            "\n"
          ]
        }
      ]
    },
    {
      "cell_type": "code",
      "source": [
        "ax = sns.heatmap(cm,annot=True,cmap='Blues', fmt='g')\n",
        "\n",
        "ax.set_title('Random Forest with Bag of Words\\n\\n');\n",
        "ax.set_xlabel('\\nPredicted Values')\n",
        "ax.set_ylabel('Actual Values ');\n",
        "\n",
        "## Ticket labels - List must be in alphabetical order\n",
        "ax.xaxis.set_ticklabels(['Positive','Neutral','Negative'])\n",
        "ax.yaxis.set_ticklabels(['Positive','Neutral','Negative'])\n",
        "\n",
        "## Display the visualization of the Confusion Matrix.\n",
        "plt.show()"
      ],
      "metadata": {
        "colab": {
          "base_uri": "https://localhost:8080/",
          "height": 384
        },
        "id": "ts64OujsCHcg",
        "outputId": "14186837-2f48-4a75-d816-32105c98a979"
      },
      "execution_count": 62,
      "outputs": [
        {
          "output_type": "display_data",
          "data": {
            "text/plain": [
              "<Figure size 720x360 with 2 Axes>"
            ],
            "image/png": "[encoded data removed]"
          },
          "metadata": {}
        }
      ]
    },
    {
      "cell_type": "code",
      "source": [],
      "metadata": {
        "id": "e52cwet6CKcI"
      },
      "execution_count": null,
      "outputs": []
    },
    {
      "cell_type": "markdown",
      "source": [
        "**XGBoost**"
      ],
      "metadata": {
        "id": "-K-aaxxRCKyr"
      }
    },
    {
      "cell_type": "code",
      "source": [
        "# @title XGBoost\n",
        "xgb = XGBClassifier()\n",
        "ovr = OneVsRestClassifier(xgb)\n",
        "ovr.fit(x_train, y_train)\n",
        "y_pred = ovr.predict(x_test)"
      ],
      "metadata": {
        "id": "h8wB7hHOCMxI"
      },
      "execution_count": 63,
      "outputs": []
    },
    {
      "cell_type": "code",
      "source": [
        "# Making the Confusion Matrix\n",
        "cm = confusion_matrix(y_test, y_pred)\n",
        "print(cm)\n",
        "print(\"\\n\")\n",
        "print(classification_report(y_test,y_pred))\n",
        "\n",
        "print(\"\\n\")\n",
        "\n",
        "xgb_accuracy = accuracy_score(y_test, y_pred)\n",
        "print('Accuracy: %f' % xgb_accuracy)\n",
        "\n",
        "xgb_precision = precision_score(y_test, y_pred, average=\"macro\", pos_label='positive')\n",
        "print('Precision: %f' % xgb_precision)\n",
        "\n",
        "xgb_recall = recall_score(y_test, y_pred, average=\"macro\", pos_label='positive')\n",
        "print('Recall: %f' % xgb_recall)\n",
        "\n",
        "xgb_f1_score = f1_score(y_test, y_pred, average=\"macro\", pos_label='positive')\n",
        "print('F1 Score: %f' % xgb_f1_score)\n"
      ],
      "metadata": {
        "colab": {
          "base_uri": "https://localhost:8080/"
        },
        "id": "MxzGbULoCOpB",
        "outputId": "18b72367-8a90-4d33-c847-6da6a4746cb4"
      },
      "execution_count": 64,
      "outputs": [
        {
          "output_type": "stream",
          "name": "stdout",
          "text": [
            "[[1773   13  854]\n",
            " [ 267   54  974]\n",
            " [ 419   17 2664]]\n",
            "\n",
            "\n",
            "              precision    recall  f1-score   support\n",
            "\n",
            "    Negative       0.72      0.67      0.70      2640\n",
            "     Neutral       0.64      0.04      0.08      1295\n",
            "    Positive       0.59      0.86      0.70      3100\n",
            "\n",
            "    accuracy                           0.64      7035\n",
            "   macro avg       0.65      0.52      0.49      7035\n",
            "weighted avg       0.65      0.64      0.58      7035\n",
            "\n",
            "\n",
            "\n",
            "Accuracy: 0.638380\n",
            "Precision: 0.652312\n",
            "Recall: 0.524215\n",
            "F1 Score: 0.491846\n"
          ]
        },
        {
          "output_type": "stream",
          "name": "stderr",
          "text": [
            "/usr/local/lib/python3.7/dist-packages/sklearn/metrics/_classification.py:1375: UserWarning:\n",
            "\n",
            "Note that pos_label (set to 'positive') is ignored when average != 'binary' (got 'macro'). You may use labels=[pos_label] to specify a single positive class.\n",
            "\n",
            "/usr/local/lib/python3.7/dist-packages/sklearn/metrics/_classification.py:1375: UserWarning:\n",
            "\n",
            "Note that pos_label (set to 'positive') is ignored when average != 'binary' (got 'macro'). You may use labels=[pos_label] to specify a single positive class.\n",
            "\n",
            "/usr/local/lib/python3.7/dist-packages/sklearn/metrics/_classification.py:1375: UserWarning:\n",
            "\n",
            "Note that pos_label (set to 'positive') is ignored when average != 'binary' (got 'macro'). You may use labels=[pos_label] to specify a single positive class.\n",
            "\n"
          ]
        }
      ]
    },
    {
      "cell_type": "code",
      "source": [
        "ax = sns.heatmap(cm,annot=True,cmap='Blues', fmt='g')\n",
        "\n",
        "ax.set_title('XGBoost with Bag of Words\\n\\n');\n",
        "ax.set_xlabel('\\nPredicted Values')\n",
        "ax.set_ylabel('Actual Values ');\n",
        "\n",
        "## Ticket labels - List must be in alphabetical order\n",
        "ax.xaxis.set_ticklabels(['Positive','Neutral','Negative'])\n",
        "ax.yaxis.set_ticklabels(['Positive','Neutral','Negative'])\n",
        "\n",
        "## Display the visualization of the Confusion Matrix.\n",
        "plt.show()"
      ],
      "metadata": {
        "colab": {
          "base_uri": "https://localhost:8080/",
          "height": 384
        },
        "id": "E2Zh4lI4CQYr",
        "outputId": "db805b20-79cf-4d48-d201-72b2a80a910a"
      },
      "execution_count": 65,
      "outputs": [
        {
          "output_type": "display_data",
          "data": {
            "text/plain": [
              "<Figure size 720x360 with 2 Axes>"
            ],
            "image/png": "[encoded data removed]"
          },
          "metadata": {}
        }
      ]
    },
    {
      "cell_type": "code",
      "source": [],
      "metadata": {
        "id": "2Nmi9GFyCTRg"
      },
      "execution_count": null,
      "outputs": []
    },
    {
      "cell_type": "markdown",
      "source": [
        "**Comparision Graphs**"
      ],
      "metadata": {
        "id": "w23CHmNoCTxH"
      }
    },
    {
      "cell_type": "code",
      "source": [
        "# @title Comparision Graphs\n",
        "\n",
        "\n",
        "cmpDf = pd.DataFrame([['Accuracy', svm_accuracy, log_accuracy,nb_accuracy, rf_accuracy, xgb_accuracy], \n",
        "                      ['Precision', svm_precision, log_precision,nb_precision, rf_precision, xgb_precision], \n",
        "                      ['Recall', svm_recall, log_recall,nb_recall, rf_recall, xgb_recall],\n",
        "                      ['F1 Score', svm_f1_score, log_f1_score,nb_f1_score, rf_f1_score, xgb_f1_score]],\n",
        "                  columns=['Score', 'SVM', 'LR','NB', 'RF', 'XGB'])\n",
        "# view data\n",
        "print(cmpDf)\n",
        "print(\"\\n\\n\")\n",
        "\n",
        "# plot grouped bar chart\n",
        "ax = cmpDf.plot(x='Score',\n",
        "        figsize=(12,6),\n",
        "        kind='bar',\n",
        "        stacked=False,\n",
        "        title='Model 1: Performance Score')\n"
      ],
      "metadata": {
        "colab": {
          "base_uri": "https://localhost:8080/",
          "height": 570
        },
        "id": "OeRzauASCVdM",
        "outputId": "dea7b619-44c3-47a3-cb7b-71fb428da2ab"
      },
      "execution_count": 66,
      "outputs": [
        {
          "output_type": "stream",
          "name": "stdout",
          "text": [
            "       Score       SVM        LR        NB        RF       XGB\n",
            "0  Accuracy   0.793888  0.777114  0.700355  0.747832  0.638380\n",
            "1  Precision  0.773563  0.763191  0.673226  0.739343  0.652312\n",
            "2  Recall     0.775462  0.746250  0.670032  0.722938  0.524215\n",
            "3  F1 Score   0.774429  0.753379  0.671539  0.728740  0.491846\n",
            "\n",
            "\n",
            "\n"
          ]
        },
        {
          "output_type": "display_data",
          "data": {
            "text/plain": [
              "<Figure size 864x432 with 1 Axes>"
            ],
            "image/png": "[encoded data removed]"
          },
          "metadata": {}
        }
      ]
    }
  ]
}